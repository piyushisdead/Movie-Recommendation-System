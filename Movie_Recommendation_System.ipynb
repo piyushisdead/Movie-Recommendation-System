{
  "cells": [
    {
      "cell_type": "markdown",
      "metadata": {
        "id": "AmPuBgajHUof"
      },
      "source": [
        "# Step 1: Data Preprocessing"
      ]
    },
    {
      "cell_type": "code",
      "execution_count": null,
      "metadata": {
        "colab": {
          "base_uri": "https://localhost:8080/"
        },
        "id": "exeSEeOoHR0J",
        "outputId": "adf6e715-f4e7-41f1-9494-e71bf8e4b468"
      },
      "outputs": [
        {
          "output_type": "stream",
          "name": "stdout",
          "text": [
            "Movies Data Columns: Index(['rotten_tomatoes_link', 'movie_title', 'movie_info',\n",
            "       'critics_consensus', 'content_rating', 'genres', 'directors', 'authors',\n",
            "       'actors', 'original_release_date', 'streaming_release_date', 'runtime',\n",
            "       'production_company', 'tomatometer_status', 'tomatometer_rating',\n",
            "       'tomatometer_count', 'audience_status', 'audience_rating',\n",
            "       'audience_count', 'tomatometer_top_critics_count',\n",
            "       'tomatometer_fresh_critics_count', 'tomatometer_rotten_critics_count'],\n",
            "      dtype='object')\n",
            "Reviews Data Columns: Index(['rotten_tomatoes_link', 'critic_name', 'top_critic', 'publisher_name',\n",
            "       'review_type', 'review_score', 'review_date', 'review_content'],\n",
            "      dtype='object')\n",
            "      rotten_tomatoes_link        movie_title  \\\n",
            "0  m/time_out_of_mind_2015   Time Out Of Mind   \n",
            "1          m/before_sunset      Before Sunset   \n",
            "2   m/sleeping_beauty_2011    Sleeping Beauty   \n",
            "3      m/one_for_the_money  One for the Money   \n",
            "4            m/snowpiercer        Snowpiercer   \n",
            "\n",
            "                                          movie_info  \\\n",
            "0  A homeless man (Richard Gere) bonds with a new...   \n",
            "1  A sequel to \"Before Sunrise,\" this film starts...   \n",
            "2  A college student (Emily Browning) becomes a n...   \n",
            "3  New Jersey native Stephanie Plum (Katherine He...   \n",
            "4  A post-apocalyptic ice age forces humanity's l...   \n",
            "\n",
            "                                   critics_consensus content_rating  \\\n",
            "0  Time Out of Mind demands patience, yet its nob...             NR   \n",
            "1  Filled with engaging dialogue, Before Sunset i...              R   \n",
            "2  Sleeping Beauty's provocative premise and lumi...             NR   \n",
            "3  Dull and unfunny, One For the Money wastes Kat...          PG-13   \n",
            "4  Snowpiercer offers an audaciously ambitious ac...              R   \n",
            "\n",
            "                              genres           directors  \\\n",
            "0                              Drama       Oren Moverman   \n",
            "1                     Drama, Romance   Richard Linklater   \n",
            "2   Art House & International, Drama         Julia Leigh   \n",
            "3  Comedy, Drama, Mystery & Suspense  Julie Ann Robinson   \n",
            "4          Science Fiction & Fantasy        Bong Joon Ho   \n",
            "\n",
            "                                             authors  \\\n",
            "0                       Jeffrey Caine, Oren Moverman   \n",
            "1        Richard Linklater, Ethan Hawke, Julie Delpy   \n",
            "2                                        Julia Leigh   \n",
            "3  Liz Brixius, Julie Ann Robinson, Stacy Sherman...   \n",
            "4                      Bong Joon Ho, Kelly Masterson   \n",
            "\n",
            "                                              actors original_release_date  \\\n",
            "0  Richard Gere, Jena Malone, Kyra Sedgwick, Stev...            2015-09-11   \n",
            "1  Ethan Hawke, Julie Delpy, Vernon Dobtcheff, Lo...            2004-07-02   \n",
            "2  Emily Browning, Rachael Blake, Ewen Leslie, Pe...            2011-12-02   \n",
            "3  Katherine Heigl, Jason O'Mara, Daniel Sunjata,...            2012-01-27   \n",
            "4  Chris Evans, Song Kang Ho, Jamie Bell, John Hu...            2014-06-27   \n",
            "\n",
            "   ... tomatometer_top_critics_count  tomatometer_fresh_critics_count  \\\n",
            "0  ...                            32                               70   \n",
            "1  ...                            48                              167   \n",
            "2  ...                            31                               47   \n",
            "3  ...                            16                                1   \n",
            "4  ...                            47                              237   \n",
            "\n",
            "  tomatometer_rotten_critics_count      critic_name  top_critic  \\\n",
            "0                               18  Stephanie Merry        True   \n",
            "1                                9      Tim Brayton       False   \n",
            "2                               50     Keith Uhlich        True   \n",
            "3                               54     Peter Howell        True   \n",
            "4                               16    Norman Wilner       False   \n",
            "\n",
            "       publisher_name review_type  review_score  review_date  \\\n",
            "0     Washington Post       Fresh           3/4   2015-09-17   \n",
            "1  Antagony & Ecstasy       Fresh         10/10   2012-10-01   \n",
            "2            Time Out       Fresh           4/5   2011-11-29   \n",
            "3        Toronto Star      Rotten           1/4   2012-01-26   \n",
            "4         NOW Toronto       Fresh           NaN   2015-01-02   \n",
            "\n",
            "                                      review_content  \n",
            "0  Like George, the movie sometimes dillydallies,...  \n",
            "1                          A stone-cold masterpiece.  \n",
            "2  The very beautiful and brave young actor Emily...  \n",
            "3  To compare this mess to a sitcom would be an i...  \n",
            "4  Bong Joon-ho's movie is a gripping, thrilling,...  \n",
            "\n",
            "[5 rows x 29 columns]\n"
          ]
        }
      ],
      "source": [
        "import pandas as pd\n",
        "import numpy as np\n",
        "\n",
        "# Loading CSV files\n",
        "movies_df = pd.read_csv('rotten_tomatoes_movies.csv')\n",
        "reviews_df = pd.read_csv('rotten_tomatoes_critic_reviews.csv')\n",
        "\n",
        "# Viewing all columns to find common column to merge the dataframe on\n",
        "print(\"Movies Data Columns:\", movies_df.columns)\n",
        "print(\"Reviews Data Columns:\", reviews_df.columns)\n",
        "\n",
        "# Merging datasets on 'rotten_tomatoes_link'\n",
        "merged_df = pd.merge(movies_df, reviews_df, on='rotten_tomatoes_link', how='inner')\n",
        "\n",
        "# Using smaller sample size\n",
        "merged_df = merged_df.sample(n=5000, random_state=42).reset_index(drop=True)\n",
        "\n",
        "# Drop rows with missing values in the 'review_score' column\n",
        "# merged_df = merged_df.dropna(subset=['review_score']).reset_index(drop=True)\n",
        "\n",
        "print(merged_df.head())"
      ]
    },
    {
      "cell_type": "markdown",
      "metadata": {
        "id": "XPKyJ_B3HhlX"
      },
      "source": [
        "# Step 2: Text Preprocessing"
      ]
    },
    {
      "cell_type": "markdown",
      "metadata": {
        "id": "650ytdTRHm2H"
      },
      "source": [
        "## 2.1 Text Cleaning"
      ]
    },
    {
      "cell_type": "code",
      "execution_count": null,
      "metadata": {
        "colab": {
          "base_uri": "https://localhost:8080/"
        },
        "id": "dcgBpgLJHiU0",
        "outputId": "4efc2d81-3e8c-4045-a794-d0dafc3deea4"
      },
      "outputs": [
        {
          "output_type": "stream",
          "name": "stderr",
          "text": [
            "[nltk_data] Downloading package punkt to /root/nltk_data...\n",
            "[nltk_data]   Package punkt is already up-to-date!\n",
            "[nltk_data] Downloading package stopwords to /root/nltk_data...\n",
            "[nltk_data]   Package stopwords is already up-to-date!\n"
          ]
        },
        {
          "output_type": "stream",
          "name": "stdout",
          "text": [
            "                                    cleaned_synopsis  \\\n",
            "0  homeless man richard gere bonds new friend ben...   \n",
            "1  sequel sunrise film starts nine years later je...   \n",
            "2  college student emily browning becomes niche s...   \n",
            "3  new jersey native stephanie plum katherine hei...   \n",
            "4  postapocalyptic ice age forces humanitys last ...   \n",
            "\n",
            "                                      cleaned_review  \n",
            "0  like george movie sometimes dillydallies unhur...  \n",
            "1                              stonecold masterpiece  \n",
            "2  beautiful brave young actor emily browning slu...  \n",
            "3           compare mess sitcom would insult sitcoms  \n",
            "4  bong joonhos movie gripping thrilling utterly ...  \n"
          ]
        }
      ],
      "source": [
        "import re\n",
        "from nltk.corpus import stopwords\n",
        "from nltk.tokenize import word_tokenize\n",
        "import nltk\n",
        "\n",
        "# Download NLTK data for tokenization and stopwords\n",
        "nltk.download('punkt')\n",
        "nltk.download('stopwords')\n",
        "\n",
        "# Define a function for cleaning text\n",
        "def clean_text(text):\n",
        "    text = text.lower()     # Text to lower case\n",
        "    text = re.sub(r'[^a-zA-Z\\s]', '', text)     # Remove special charachters\n",
        "    tokens = word_tokenize(text)      # Tokenize words\n",
        "    tokens = [word for word in tokens if word not in stopwords.words('english')]      # Remove stopwords\n",
        "    cleaned_text = ' '.join(tokens)     # Tokens to string\n",
        "    return cleaned_text\n",
        "\n",
        "# Applying text cleaning to synopsis and reviews\n",
        "merged_df['cleaned_synopsis'] = merged_df['movie_info'].apply(lambda x: clean_text(x) if isinstance(x, str) else '')\n",
        "merged_df['cleaned_review'] = merged_df['review_content'].apply(lambda x: clean_text(x) if isinstance(x, str) else '')\n",
        "\n",
        "print(merged_df[['cleaned_synopsis', 'cleaned_review']].head())"
      ]
    },
    {
      "cell_type": "markdown",
      "metadata": {
        "id": "XRhEy-csH10c"
      },
      "source": [
        "## 2.2 Tokenization and Vectorization"
      ]
    },
    {
      "cell_type": "code",
      "execution_count": null,
      "metadata": {
        "colab": {
          "base_uri": "https://localhost:8080/"
        },
        "id": "pbCMOAKuHu-O",
        "outputId": "5cfddbe8-7f2d-4659-a0d0-f3d71625786b"
      },
      "outputs": [
        {
          "output_type": "stream",
          "name": "stdout",
          "text": [
            "TF-IDF Vectorized Synopsis Shape: (5000, 5000)\n",
            "TF-IDF Vectorized Reviews Shape: (5000, 5000)\n"
          ]
        }
      ],
      "source": [
        "from sklearn.feature_extraction.text import TfidfVectorizer\n",
        "\n",
        "# Initialize TF-IDF Vectorizers for synopsis and reviews\n",
        "synopsis_vectorizer = TfidfVectorizer(max_features=5000)\n",
        "review_vectorizer = TfidfVectorizer(max_features=5000)\n",
        "\n",
        "# Fit and transform the cleaned synopsis and reviews\n",
        "synopsis_tfidf = synopsis_vectorizer.fit_transform(merged_df['cleaned_synopsis'])\n",
        "review_tfidf = review_vectorizer.fit_transform(merged_df['cleaned_review'])\n",
        "\n",
        "# Convert to DataFrames for easier inspection\n",
        "synopsis_tfidf_df = pd.DataFrame(synopsis_tfidf.toarray(), columns=synopsis_vectorizer.get_feature_names_out())\n",
        "review_tfidf_df = pd.DataFrame(review_tfidf.toarray(), columns=review_vectorizer.get_feature_names_out())\n",
        "\n",
        "print(\"TF-IDF Vectorized Synopsis Shape:\", synopsis_tfidf_df.shape)\n",
        "print(\"TF-IDF Vectorized Reviews Shape:\", review_tfidf_df.shape)"
      ]
    },
    {
      "cell_type": "markdown",
      "metadata": {
        "id": "4jAFJMiZIJ0Q"
      },
      "source": [
        "# Step 3: Building Similarity-Based Recommendations"
      ]
    },
    {
      "cell_type": "markdown",
      "metadata": {
        "id": "A153UfesIM7x"
      },
      "source": [
        "## Step 3.1: Content-Based Filtering with Cosine Similarity"
      ]
    },
    {
      "cell_type": "code",
      "execution_count": null,
      "metadata": {
        "colab": {
          "base_uri": "https://localhost:8080/"
        },
        "id": "dnUGW3_UIJWG",
        "outputId": "023340a1-ea8d-4dc6-9a6c-9c7b86e2d1c1"
      },
      "outputs": [
        {
          "output_type": "stream",
          "name": "stdout",
          "text": [
            "Content-based Recommendations for 'Sleeping Beauty':\n",
            "             movie_title                                         movie_info\n",
            "1989     Sleeping Beauty  A college student (Emily Browning) becomes a n...\n",
            "981   House of Pleasures  A young woman begins a new life at the Apollon...\n",
            "119           Love Ranch  In the late 1970s, Grace and Charlie Bontempo ...\n",
            "717           Love Ranch  In the late 1970s, Grace and Charlie Bontempo ...\n",
            "2553        The Big Sick  Kumail is a Pakistani comic, who meets an Amer...\n"
          ]
        }
      ],
      "source": [
        "from sklearn.metrics.pairwise import cosine_similarity\n",
        "\n",
        "# Cosine similarity for synopsis TF-IDF\n",
        "synopsis_similarity = cosine_similarity(synopsis_tfidf, synopsis_tfidf)\n",
        "\n",
        "# Content-Based Filtering based on synopsis\n",
        "def content_based_recommendations(movie_title, top_n=5):\n",
        "    # Get index of movie that matches the title\n",
        "    movie_idx = merged_df[merged_df['movie_title'].str.lower() == movie_title.lower()].index[0]\n",
        "\n",
        "    # Get similarity scores\n",
        "    sim_scores = list(enumerate(synopsis_similarity[movie_idx]))\n",
        "\n",
        "    # Sort movies based on similarity scores\n",
        "    sim_scores = sorted(sim_scores, key=lambda x: x[1], reverse=True)\n",
        "\n",
        "    # Get the indices of most similar movies (excluding itself)\n",
        "    top_movie_indices = [i[0] for i in sim_scores[1:top_n+1]]\n",
        "\n",
        "    # Return the most similar movies\n",
        "    return merged_df[['movie_title', 'movie_info']].iloc[top_movie_indices]\n",
        "\n",
        "# Testing\n",
        "print(\"Content-based Recommendations for 'Sleeping Beauty':\")\n",
        "print(content_based_recommendations('Sleeping Beauty'))"
      ]
    },
    {
      "cell_type": "markdown",
      "metadata": {
        "id": "ICH0Qdt4Iaxt"
      },
      "source": [
        "## Step 3.2: Collaborative Filtering Using Reviews"
      ]
    },
    {
      "cell_type": "code",
      "execution_count": null,
      "metadata": {
        "colab": {
          "base_uri": "https://localhost:8080/"
        },
        "id": "rcY3cBkGIcul",
        "outputId": "6e6d41b0-1a6b-4797-9257-50390f5b566e"
      },
      "outputs": [
        {
          "output_type": "stream",
          "name": "stdout",
          "text": [
            "Collaborative Filtering Recommendations for user_id 'Peter Howell':\n",
            "['Elizabethtown', 'Sexy Beast', 'Let Me In', 'Star Trek', 'Secret Window']\n"
          ]
        }
      ],
      "source": [
        "from sklearn.metrics.pairwise import cosine_similarity\n",
        "import pandas as pd\n",
        "\n",
        "# Ensure 'review_score' is treated as a string to extract numeric ratings\n",
        "merged_df['review_score'] = merged_df['review_score'].astype(str).str.extract(r'(\\d+(\\.\\d+)?)')[0].astype(float)\n",
        "\n",
        "user_counts = merged_df['critic_name'].value_counts()\n",
        "movie_counts = merged_df['rotten_tomatoes_link'].value_counts()\n",
        "\n",
        "# Filtering the merged df where any movie should have atleast 5 ratings and any critic should have given atleast 5 ratings\n",
        "filtered_df = merged_df[merged_df['critic_name'].isin(user_counts[user_counts >= 5].index) &\n",
        "                        merged_df['rotten_tomatoes_link'].isin(movie_counts[movie_counts >= 5].index)]\n",
        "\n",
        "# Creating a movie-critic matrix\n",
        "user_item_matrix = filtered_df.pivot_table(index='critic_name', columns='movie_title', values='review_score', fill_value=0)\n",
        "\n",
        "# Normalize by subtracting mean\n",
        "user_item_matrix_norm = user_item_matrix.sub(user_item_matrix.mean(axis=1), axis=0).fillna(0)\n",
        "\n",
        "# Calculate cosine similarity between users\n",
        "user_similarity = cosine_similarity(user_item_matrix_norm)\n",
        "user_similarity_df = pd.DataFrame(user_similarity, index=user_item_matrix_norm.index, columns=user_item_matrix_norm.index)\n",
        "\n",
        "# Collaborative filtering function to get recommendations based on similar users\n",
        "def collaborative_recommendations(user_id, top_n=5):\n",
        "    # Error Handling\n",
        "    if user_id not in user_similarity_df.index:\n",
        "        return f\"User '{user_id}' not found in the dataset.\"\n",
        "\n",
        "    # Finding similar users\n",
        "    similar_users = user_similarity_df[user_id].sort_values(ascending=False).iloc[1:top_n+1]\n",
        "\n",
        "    # Get movies rated by similar users\n",
        "    recommendations = pd.DataFrame()\n",
        "    for similar_user in similar_users.index:\n",
        "        rated_movies = user_item_matrix_norm.loc[similar_user]\n",
        "        recommendations = pd.concat([recommendations, rated_movies[rated_movies > 0]], axis=1)\n",
        "\n",
        "    # Average the ratings of similar users and sort them\n",
        "    recommendations['average_rating'] = recommendations.mean(axis=1)\n",
        "    recommendations = recommendations.sort_values(by='average_rating', ascending=False).head(top_n)\n",
        "\n",
        "    return recommendations.index.tolist()\n",
        "\n",
        "# Testing\n",
        "print(\"Collaborative Filtering Recommendations for user_id 'Peter Howell':\")\n",
        "print(collaborative_recommendations('Peter Howell'))"
      ]
    },
    {
      "cell_type": "markdown",
      "metadata": {
        "id": "OWVCpogXIzTR"
      },
      "source": [
        "# Step 4.1: Model Building Using Deep Learning"
      ]
    },
    {
      "cell_type": "markdown",
      "metadata": {
        "id": "I_mFSyw6I2Dm"
      },
      "source": [
        "## Step 4.1.1: Prepare the Data for Neural Collaborative Filtering"
      ]
    },
    {
      "cell_type": "code",
      "execution_count": null,
      "metadata": {
        "id": "7AM-KOTlIzED"
      },
      "outputs": [],
      "source": [
        "import tensorflow as tf\n",
        "from sklearn.model_selection import train_test_split\n",
        "from tensorflow.keras.layers import Input, Embedding, Flatten, Dense, Concatenate, Dropout\n",
        "from tensorflow.keras.models import Model\n",
        "import numpy as np\n",
        "\n",
        "filtered_df = filtered_df[['critic_name', 'rotten_tomatoes_link', 'review_score']].dropna()\n",
        "\n",
        "# Encode users and movies with unique integers\n",
        "user_ids = filtered_df['critic_name'].astype('category').cat.codes.values\n",
        "movie_ids = filtered_df['rotten_tomatoes_link'].astype('category').cat.codes.values\n",
        "ratings = filtered_df['review_score'].values\n",
        "\n",
        "# TTS\n",
        "train_data, test_data, train_ratings, test_ratings = train_test_split(\n",
        "    list(zip(user_ids, movie_ids)), ratings, test_size=0.2, random_state=42\n",
        ")\n",
        "train_user_ids, train_movie_ids = zip(*train_data)\n",
        "test_user_ids, test_movie_ids = zip(*test_data)\n",
        "\n",
        "# Define number of unique users and movies for embedding layers\n",
        "num_users = len(np.unique(user_ids))\n",
        "num_movies = len(np.unique(movie_ids))\n",
        "\n",
        "# Hyperparameters\n",
        "embedding_dim = 100  # Dimension for embedding layers\n",
        "dropout_rate = 0.2"
      ]
    },
    {
      "cell_type": "markdown",
      "metadata": {
        "id": "hmngzobdI9-L"
      },
      "source": [
        "## Step 4.1.2: Build the Neural Collaborative Filtering Model"
      ]
    },
    {
      "cell_type": "code",
      "execution_count": null,
      "metadata": {
        "colab": {
          "base_uri": "https://localhost:8080/",
          "height": 629
        },
        "id": "uqPtXGf7JB0g",
        "outputId": "c0a5dd21-6745-424d-95de-538c1a234b92"
      },
      "outputs": [
        {
          "output_type": "display_data",
          "data": {
            "text/plain": [
              "\u001b[1mModel: \"functional_7\"\u001b[0m\n"
            ],
            "text/html": [
              "<pre style=\"white-space:pre;overflow-x:auto;line-height:normal;font-family:Menlo,'DejaVu Sans Mono',consolas,'Courier New',monospace\"><span style=\"font-weight: bold\">Model: \"functional_7\"</span>\n",
              "</pre>\n"
            ]
          },
          "metadata": {}
        },
        {
          "output_type": "display_data",
          "data": {
            "text/plain": [
              "┏━━━━━━━━━━━━━━━━━━━━━━━━━━━┳━━━━━━━━━━━━━━━━━━━━━━━━┳━━━━━━━━━━━━━━━━┳━━━━━━━━━━━━━━━━━━━━━━━━┓\n",
              "┃\u001b[1m \u001b[0m\u001b[1mLayer (type)             \u001b[0m\u001b[1m \u001b[0m┃\u001b[1m \u001b[0m\u001b[1mOutput Shape          \u001b[0m\u001b[1m \u001b[0m┃\u001b[1m \u001b[0m\u001b[1m       Param #\u001b[0m\u001b[1m \u001b[0m┃\u001b[1m \u001b[0m\u001b[1mConnected to          \u001b[0m\u001b[1m \u001b[0m┃\n",
              "┡━━━━━━━━━━━━━━━━━━━━━━━━━━━╇━━━━━━━━━━━━━━━━━━━━━━━━╇━━━━━━━━━━━━━━━━╇━━━━━━━━━━━━━━━━━━━━━━━━┩\n",
              "│ user_input (\u001b[38;5;33mInputLayer\u001b[0m)   │ (\u001b[38;5;45mNone\u001b[0m, \u001b[38;5;34m1\u001b[0m)              │              \u001b[38;5;34m0\u001b[0m │ -                      │\n",
              "├───────────────────────────┼────────────────────────┼────────────────┼────────────────────────┤\n",
              "│ movie_input (\u001b[38;5;33mInputLayer\u001b[0m)  │ (\u001b[38;5;45mNone\u001b[0m, \u001b[38;5;34m1\u001b[0m)              │              \u001b[38;5;34m0\u001b[0m │ -                      │\n",
              "├───────────────────────────┼────────────────────────┼────────────────┼────────────────────────┤\n",
              "│ user_embedding            │ (\u001b[38;5;45mNone\u001b[0m, \u001b[38;5;34m1\u001b[0m, \u001b[38;5;34m100\u001b[0m)         │          \u001b[38;5;34m2,300\u001b[0m │ user_input[\u001b[38;5;34m0\u001b[0m][\u001b[38;5;34m0\u001b[0m]       │\n",
              "│ (\u001b[38;5;33mEmbedding\u001b[0m)               │                        │                │                        │\n",
              "├───────────────────────────┼────────────────────────┼────────────────┼────────────────────────┤\n",
              "│ movie_embedding           │ (\u001b[38;5;45mNone\u001b[0m, \u001b[38;5;34m1\u001b[0m, \u001b[38;5;34m100\u001b[0m)         │          \u001b[38;5;34m1,600\u001b[0m │ movie_input[\u001b[38;5;34m0\u001b[0m][\u001b[38;5;34m0\u001b[0m]      │\n",
              "│ (\u001b[38;5;33mEmbedding\u001b[0m)               │                        │                │                        │\n",
              "├───────────────────────────┼────────────────────────┼────────────────┼────────────────────────┤\n",
              "│ flatten_14 (\u001b[38;5;33mFlatten\u001b[0m)      │ (\u001b[38;5;45mNone\u001b[0m, \u001b[38;5;34m100\u001b[0m)            │              \u001b[38;5;34m0\u001b[0m │ user_embedding[\u001b[38;5;34m0\u001b[0m][\u001b[38;5;34m0\u001b[0m]   │\n",
              "├───────────────────────────┼────────────────────────┼────────────────┼────────────────────────┤\n",
              "│ flatten_15 (\u001b[38;5;33mFlatten\u001b[0m)      │ (\u001b[38;5;45mNone\u001b[0m, \u001b[38;5;34m100\u001b[0m)            │              \u001b[38;5;34m0\u001b[0m │ movie_embedding[\u001b[38;5;34m0\u001b[0m][\u001b[38;5;34m0\u001b[0m]  │\n",
              "├───────────────────────────┼────────────────────────┼────────────────┼────────────────────────┤\n",
              "│ concatenate_7             │ (\u001b[38;5;45mNone\u001b[0m, \u001b[38;5;34m200\u001b[0m)            │              \u001b[38;5;34m0\u001b[0m │ flatten_14[\u001b[38;5;34m0\u001b[0m][\u001b[38;5;34m0\u001b[0m],      │\n",
              "│ (\u001b[38;5;33mConcatenate\u001b[0m)             │                        │                │ flatten_15[\u001b[38;5;34m0\u001b[0m][\u001b[38;5;34m0\u001b[0m]       │\n",
              "├───────────────────────────┼────────────────────────┼────────────────┼────────────────────────┤\n",
              "│ dense_28 (\u001b[38;5;33mDense\u001b[0m)          │ (\u001b[38;5;45mNone\u001b[0m, \u001b[38;5;34m128\u001b[0m)            │         \u001b[38;5;34m25,728\u001b[0m │ concatenate_7[\u001b[38;5;34m0\u001b[0m][\u001b[38;5;34m0\u001b[0m]    │\n",
              "├───────────────────────────┼────────────────────────┼────────────────┼────────────────────────┤\n",
              "│ dropout_14 (\u001b[38;5;33mDropout\u001b[0m)      │ (\u001b[38;5;45mNone\u001b[0m, \u001b[38;5;34m128\u001b[0m)            │              \u001b[38;5;34m0\u001b[0m │ dense_28[\u001b[38;5;34m0\u001b[0m][\u001b[38;5;34m0\u001b[0m]         │\n",
              "├───────────────────────────┼────────────────────────┼────────────────┼────────────────────────┤\n",
              "│ dense_29 (\u001b[38;5;33mDense\u001b[0m)          │ (\u001b[38;5;45mNone\u001b[0m, \u001b[38;5;34m64\u001b[0m)             │          \u001b[38;5;34m8,256\u001b[0m │ dropout_14[\u001b[38;5;34m0\u001b[0m][\u001b[38;5;34m0\u001b[0m]       │\n",
              "├───────────────────────────┼────────────────────────┼────────────────┼────────────────────────┤\n",
              "│ dropout_15 (\u001b[38;5;33mDropout\u001b[0m)      │ (\u001b[38;5;45mNone\u001b[0m, \u001b[38;5;34m64\u001b[0m)             │              \u001b[38;5;34m0\u001b[0m │ dense_29[\u001b[38;5;34m0\u001b[0m][\u001b[38;5;34m0\u001b[0m]         │\n",
              "├───────────────────────────┼────────────────────────┼────────────────┼────────────────────────┤\n",
              "│ dense_30 (\u001b[38;5;33mDense\u001b[0m)          │ (\u001b[38;5;45mNone\u001b[0m, \u001b[38;5;34m32\u001b[0m)             │          \u001b[38;5;34m2,080\u001b[0m │ dropout_15[\u001b[38;5;34m0\u001b[0m][\u001b[38;5;34m0\u001b[0m]       │\n",
              "├───────────────────────────┼────────────────────────┼────────────────┼────────────────────────┤\n",
              "│ dense_31 (\u001b[38;5;33mDense\u001b[0m)          │ (\u001b[38;5;45mNone\u001b[0m, \u001b[38;5;34m1\u001b[0m)              │             \u001b[38;5;34m33\u001b[0m │ dense_30[\u001b[38;5;34m0\u001b[0m][\u001b[38;5;34m0\u001b[0m]         │\n",
              "└───────────────────────────┴────────────────────────┴────────────────┴────────────────────────┘\n"
            ],
            "text/html": [
              "<pre style=\"white-space:pre;overflow-x:auto;line-height:normal;font-family:Menlo,'DejaVu Sans Mono',consolas,'Courier New',monospace\">┏━━━━━━━━━━━━━━━━━━━━━━━━━━━┳━━━━━━━━━━━━━━━━━━━━━━━━┳━━━━━━━━━━━━━━━━┳━━━━━━━━━━━━━━━━━━━━━━━━┓\n",
              "┃<span style=\"font-weight: bold\"> Layer (type)              </span>┃<span style=\"font-weight: bold\"> Output Shape           </span>┃<span style=\"font-weight: bold\">        Param # </span>┃<span style=\"font-weight: bold\"> Connected to           </span>┃\n",
              "┡━━━━━━━━━━━━━━━━━━━━━━━━━━━╇━━━━━━━━━━━━━━━━━━━━━━━━╇━━━━━━━━━━━━━━━━╇━━━━━━━━━━━━━━━━━━━━━━━━┩\n",
              "│ user_input (<span style=\"color: #0087ff; text-decoration-color: #0087ff\">InputLayer</span>)   │ (<span style=\"color: #00d7ff; text-decoration-color: #00d7ff\">None</span>, <span style=\"color: #00af00; text-decoration-color: #00af00\">1</span>)              │              <span style=\"color: #00af00; text-decoration-color: #00af00\">0</span> │ -                      │\n",
              "├───────────────────────────┼────────────────────────┼────────────────┼────────────────────────┤\n",
              "│ movie_input (<span style=\"color: #0087ff; text-decoration-color: #0087ff\">InputLayer</span>)  │ (<span style=\"color: #00d7ff; text-decoration-color: #00d7ff\">None</span>, <span style=\"color: #00af00; text-decoration-color: #00af00\">1</span>)              │              <span style=\"color: #00af00; text-decoration-color: #00af00\">0</span> │ -                      │\n",
              "├───────────────────────────┼────────────────────────┼────────────────┼────────────────────────┤\n",
              "│ user_embedding            │ (<span style=\"color: #00d7ff; text-decoration-color: #00d7ff\">None</span>, <span style=\"color: #00af00; text-decoration-color: #00af00\">1</span>, <span style=\"color: #00af00; text-decoration-color: #00af00\">100</span>)         │          <span style=\"color: #00af00; text-decoration-color: #00af00\">2,300</span> │ user_input[<span style=\"color: #00af00; text-decoration-color: #00af00\">0</span>][<span style=\"color: #00af00; text-decoration-color: #00af00\">0</span>]       │\n",
              "│ (<span style=\"color: #0087ff; text-decoration-color: #0087ff\">Embedding</span>)               │                        │                │                        │\n",
              "├───────────────────────────┼────────────────────────┼────────────────┼────────────────────────┤\n",
              "│ movie_embedding           │ (<span style=\"color: #00d7ff; text-decoration-color: #00d7ff\">None</span>, <span style=\"color: #00af00; text-decoration-color: #00af00\">1</span>, <span style=\"color: #00af00; text-decoration-color: #00af00\">100</span>)         │          <span style=\"color: #00af00; text-decoration-color: #00af00\">1,600</span> │ movie_input[<span style=\"color: #00af00; text-decoration-color: #00af00\">0</span>][<span style=\"color: #00af00; text-decoration-color: #00af00\">0</span>]      │\n",
              "│ (<span style=\"color: #0087ff; text-decoration-color: #0087ff\">Embedding</span>)               │                        │                │                        │\n",
              "├───────────────────────────┼────────────────────────┼────────────────┼────────────────────────┤\n",
              "│ flatten_14 (<span style=\"color: #0087ff; text-decoration-color: #0087ff\">Flatten</span>)      │ (<span style=\"color: #00d7ff; text-decoration-color: #00d7ff\">None</span>, <span style=\"color: #00af00; text-decoration-color: #00af00\">100</span>)            │              <span style=\"color: #00af00; text-decoration-color: #00af00\">0</span> │ user_embedding[<span style=\"color: #00af00; text-decoration-color: #00af00\">0</span>][<span style=\"color: #00af00; text-decoration-color: #00af00\">0</span>]   │\n",
              "├───────────────────────────┼────────────────────────┼────────────────┼────────────────────────┤\n",
              "│ flatten_15 (<span style=\"color: #0087ff; text-decoration-color: #0087ff\">Flatten</span>)      │ (<span style=\"color: #00d7ff; text-decoration-color: #00d7ff\">None</span>, <span style=\"color: #00af00; text-decoration-color: #00af00\">100</span>)            │              <span style=\"color: #00af00; text-decoration-color: #00af00\">0</span> │ movie_embedding[<span style=\"color: #00af00; text-decoration-color: #00af00\">0</span>][<span style=\"color: #00af00; text-decoration-color: #00af00\">0</span>]  │\n",
              "├───────────────────────────┼────────────────────────┼────────────────┼────────────────────────┤\n",
              "│ concatenate_7             │ (<span style=\"color: #00d7ff; text-decoration-color: #00d7ff\">None</span>, <span style=\"color: #00af00; text-decoration-color: #00af00\">200</span>)            │              <span style=\"color: #00af00; text-decoration-color: #00af00\">0</span> │ flatten_14[<span style=\"color: #00af00; text-decoration-color: #00af00\">0</span>][<span style=\"color: #00af00; text-decoration-color: #00af00\">0</span>],      │\n",
              "│ (<span style=\"color: #0087ff; text-decoration-color: #0087ff\">Concatenate</span>)             │                        │                │ flatten_15[<span style=\"color: #00af00; text-decoration-color: #00af00\">0</span>][<span style=\"color: #00af00; text-decoration-color: #00af00\">0</span>]       │\n",
              "├───────────────────────────┼────────────────────────┼────────────────┼────────────────────────┤\n",
              "│ dense_28 (<span style=\"color: #0087ff; text-decoration-color: #0087ff\">Dense</span>)          │ (<span style=\"color: #00d7ff; text-decoration-color: #00d7ff\">None</span>, <span style=\"color: #00af00; text-decoration-color: #00af00\">128</span>)            │         <span style=\"color: #00af00; text-decoration-color: #00af00\">25,728</span> │ concatenate_7[<span style=\"color: #00af00; text-decoration-color: #00af00\">0</span>][<span style=\"color: #00af00; text-decoration-color: #00af00\">0</span>]    │\n",
              "├───────────────────────────┼────────────────────────┼────────────────┼────────────────────────┤\n",
              "│ dropout_14 (<span style=\"color: #0087ff; text-decoration-color: #0087ff\">Dropout</span>)      │ (<span style=\"color: #00d7ff; text-decoration-color: #00d7ff\">None</span>, <span style=\"color: #00af00; text-decoration-color: #00af00\">128</span>)            │              <span style=\"color: #00af00; text-decoration-color: #00af00\">0</span> │ dense_28[<span style=\"color: #00af00; text-decoration-color: #00af00\">0</span>][<span style=\"color: #00af00; text-decoration-color: #00af00\">0</span>]         │\n",
              "├───────────────────────────┼────────────────────────┼────────────────┼────────────────────────┤\n",
              "│ dense_29 (<span style=\"color: #0087ff; text-decoration-color: #0087ff\">Dense</span>)          │ (<span style=\"color: #00d7ff; text-decoration-color: #00d7ff\">None</span>, <span style=\"color: #00af00; text-decoration-color: #00af00\">64</span>)             │          <span style=\"color: #00af00; text-decoration-color: #00af00\">8,256</span> │ dropout_14[<span style=\"color: #00af00; text-decoration-color: #00af00\">0</span>][<span style=\"color: #00af00; text-decoration-color: #00af00\">0</span>]       │\n",
              "├───────────────────────────┼────────────────────────┼────────────────┼────────────────────────┤\n",
              "│ dropout_15 (<span style=\"color: #0087ff; text-decoration-color: #0087ff\">Dropout</span>)      │ (<span style=\"color: #00d7ff; text-decoration-color: #00d7ff\">None</span>, <span style=\"color: #00af00; text-decoration-color: #00af00\">64</span>)             │              <span style=\"color: #00af00; text-decoration-color: #00af00\">0</span> │ dense_29[<span style=\"color: #00af00; text-decoration-color: #00af00\">0</span>][<span style=\"color: #00af00; text-decoration-color: #00af00\">0</span>]         │\n",
              "├───────────────────────────┼────────────────────────┼────────────────┼────────────────────────┤\n",
              "│ dense_30 (<span style=\"color: #0087ff; text-decoration-color: #0087ff\">Dense</span>)          │ (<span style=\"color: #00d7ff; text-decoration-color: #00d7ff\">None</span>, <span style=\"color: #00af00; text-decoration-color: #00af00\">32</span>)             │          <span style=\"color: #00af00; text-decoration-color: #00af00\">2,080</span> │ dropout_15[<span style=\"color: #00af00; text-decoration-color: #00af00\">0</span>][<span style=\"color: #00af00; text-decoration-color: #00af00\">0</span>]       │\n",
              "├───────────────────────────┼────────────────────────┼────────────────┼────────────────────────┤\n",
              "│ dense_31 (<span style=\"color: #0087ff; text-decoration-color: #0087ff\">Dense</span>)          │ (<span style=\"color: #00d7ff; text-decoration-color: #00d7ff\">None</span>, <span style=\"color: #00af00; text-decoration-color: #00af00\">1</span>)              │             <span style=\"color: #00af00; text-decoration-color: #00af00\">33</span> │ dense_30[<span style=\"color: #00af00; text-decoration-color: #00af00\">0</span>][<span style=\"color: #00af00; text-decoration-color: #00af00\">0</span>]         │\n",
              "└───────────────────────────┴────────────────────────┴────────────────┴────────────────────────┘\n",
              "</pre>\n"
            ]
          },
          "metadata": {}
        },
        {
          "output_type": "display_data",
          "data": {
            "text/plain": [
              "\u001b[1m Total params: \u001b[0m\u001b[38;5;34m39,997\u001b[0m (156.24 KB)\n"
            ],
            "text/html": [
              "<pre style=\"white-space:pre;overflow-x:auto;line-height:normal;font-family:Menlo,'DejaVu Sans Mono',consolas,'Courier New',monospace\"><span style=\"font-weight: bold\"> Total params: </span><span style=\"color: #00af00; text-decoration-color: #00af00\">39,997</span> (156.24 KB)\n",
              "</pre>\n"
            ]
          },
          "metadata": {}
        },
        {
          "output_type": "display_data",
          "data": {
            "text/plain": [
              "\u001b[1m Trainable params: \u001b[0m\u001b[38;5;34m39,997\u001b[0m (156.24 KB)\n"
            ],
            "text/html": [
              "<pre style=\"white-space:pre;overflow-x:auto;line-height:normal;font-family:Menlo,'DejaVu Sans Mono',consolas,'Courier New',monospace\"><span style=\"font-weight: bold\"> Trainable params: </span><span style=\"color: #00af00; text-decoration-color: #00af00\">39,997</span> (156.24 KB)\n",
              "</pre>\n"
            ]
          },
          "metadata": {}
        },
        {
          "output_type": "display_data",
          "data": {
            "text/plain": [
              "\u001b[1m Non-trainable params: \u001b[0m\u001b[38;5;34m0\u001b[0m (0.00 B)\n"
            ],
            "text/html": [
              "<pre style=\"white-space:pre;overflow-x:auto;line-height:normal;font-family:Menlo,'DejaVu Sans Mono',consolas,'Courier New',monospace\"><span style=\"font-weight: bold\"> Non-trainable params: </span><span style=\"color: #00af00; text-decoration-color: #00af00\">0</span> (0.00 B)\n",
              "</pre>\n"
            ]
          },
          "metadata": {}
        }
      ],
      "source": [
        "# Define input layers\n",
        "user_input = Input(shape=(1,), name=\"user_input\")\n",
        "movie_input = Input(shape=(1,), name=\"movie_input\")\n",
        "\n",
        "# User and movie embedding layers\n",
        "user_embedding = Embedding(input_dim=num_users, output_dim=embedding_dim, name=\"user_embedding\")(user_input)\n",
        "movie_embedding = Embedding(input_dim=num_movies, output_dim=embedding_dim, name=\"movie_embedding\")(movie_input)\n",
        "\n",
        "# Flatten the embeddings to prepare for concatenation\n",
        "user_flat = Flatten()(user_embedding)\n",
        "movie_flat = Flatten()(movie_embedding)\n",
        "\n",
        "# Concatenate user and movie embeddings\n",
        "concat = Concatenate()([user_flat, movie_flat])\n",
        "\n",
        "# Add dense layers for neural network\n",
        "dense_1 = Dense(128, activation=\"relu\")(concat)\n",
        "dropout_1 = Dropout(dropout_rate)(dense_1)\n",
        "dense_2 = Dense(64, activation=\"relu\")(dropout_1)\n",
        "dropout_2 = Dropout(dropout_rate)(dense_2)\n",
        "dense_3 = Dense(32, activation=\"relu\")(dropout_2)\n",
        "\n",
        "# Output layer with single unit (rating prediction)\n",
        "output = Dense(1)(dense_3)\n",
        "\n",
        "# Build the model\n",
        "model = Model(inputs=[user_input, movie_input], outputs=output)\n",
        "model.compile(optimizer=\"adam\", loss=\"mse\", metrics=[\"mae\"])\n",
        "\n",
        "# Summary of the model architecture\n",
        "model.summary()"
      ]
    },
    {
      "cell_type": "markdown",
      "metadata": {
        "id": "oZ2tx0qpJGjq"
      },
      "source": [
        "## Step 4.1.3: Train the Model"
      ]
    },
    {
      "cell_type": "code",
      "execution_count": null,
      "metadata": {
        "colab": {
          "base_uri": "https://localhost:8080/"
        },
        "id": "BrqQ7fdNJK_I",
        "outputId": "41dd6053-2546-4db2-9d96-4bcc2a270298"
      },
      "outputs": [
        {
          "output_type": "stream",
          "name": "stdout",
          "text": [
            "Epoch 1/25\n",
            "\u001b[1m1/1\u001b[0m \u001b[32m━━━━━━━━━━━━━━━━━━━━\u001b[0m\u001b[37m\u001b[0m \u001b[1m3s\u001b[0m 3s/step - loss: 11.4200 - mae: 3.2014 - val_loss: 27.1262 - val_mae: 4.5305\n",
            "Epoch 2/25\n",
            "\u001b[1m1/1\u001b[0m \u001b[32m━━━━━━━━━━━━━━━━━━━━\u001b[0m\u001b[37m\u001b[0m \u001b[1m0s\u001b[0m 44ms/step - loss: 11.2129 - mae: 3.1701 - val_loss: 26.9007 - val_mae: 4.5048\n",
            "Epoch 3/25\n",
            "\u001b[1m1/1\u001b[0m \u001b[32m━━━━━━━━━━━━━━━━━━━━\u001b[0m\u001b[37m\u001b[0m \u001b[1m0s\u001b[0m 58ms/step - loss: 11.0007 - mae: 3.1378 - val_loss: 26.6491 - val_mae: 4.4754\n",
            "Epoch 4/25\n",
            "\u001b[1m1/1\u001b[0m \u001b[32m━━━━━━━━━━━━━━━━━━━━\u001b[0m\u001b[37m\u001b[0m \u001b[1m0s\u001b[0m 45ms/step - loss: 10.7822 - mae: 3.1051 - val_loss: 26.3619 - val_mae: 4.4421\n",
            "Epoch 5/25\n",
            "\u001b[1m1/1\u001b[0m \u001b[32m━━━━━━━━━━━━━━━━━━━━\u001b[0m\u001b[37m\u001b[0m \u001b[1m0s\u001b[0m 55ms/step - loss: 10.5405 - mae: 3.0662 - val_loss: 26.0421 - val_mae: 4.4046\n",
            "Epoch 6/25\n",
            "\u001b[1m1/1\u001b[0m \u001b[32m━━━━━━━━━━━━━━━━━━━━\u001b[0m\u001b[37m\u001b[0m \u001b[1m0s\u001b[0m 56ms/step - loss: 10.3012 - mae: 3.0296 - val_loss: 25.6911 - val_mae: 4.3621\n",
            "Epoch 7/25\n",
            "\u001b[1m1/1\u001b[0m \u001b[32m━━━━━━━━━━━━━━━━━━━━\u001b[0m\u001b[37m\u001b[0m \u001b[1m0s\u001b[0m 56ms/step - loss: 9.9003 - mae: 2.9699 - val_loss: 25.3037 - val_mae: 4.3150\n",
            "Epoch 8/25\n",
            "\u001b[1m1/1\u001b[0m \u001b[32m━━━━━━━━━━━━━━━━━━━━\u001b[0m\u001b[37m\u001b[0m \u001b[1m0s\u001b[0m 56ms/step - loss: 9.6189 - mae: 2.9202 - val_loss: 24.8780 - val_mae: 4.2631\n",
            "Epoch 9/25\n",
            "\u001b[1m1/1\u001b[0m \u001b[32m━━━━━━━━━━━━━━━━━━━━\u001b[0m\u001b[37m\u001b[0m \u001b[1m0s\u001b[0m 56ms/step - loss: 9.2067 - mae: 2.8473 - val_loss: 24.4053 - val_mae: 4.2055\n",
            "Epoch 10/25\n",
            "\u001b[1m1/1\u001b[0m \u001b[32m━━━━━━━━━━━━━━━━━━━━\u001b[0m\u001b[37m\u001b[0m \u001b[1m0s\u001b[0m 46ms/step - loss: 8.8512 - mae: 2.7908 - val_loss: 23.8816 - val_mae: 4.1413\n",
            "Epoch 11/25\n",
            "\u001b[1m1/1\u001b[0m \u001b[32m━━━━━━━━━━━━━━━━━━━━\u001b[0m\u001b[37m\u001b[0m \u001b[1m0s\u001b[0m 45ms/step - loss: 8.4754 - mae: 2.7200 - val_loss: 23.3121 - val_mae: 4.0705\n",
            "Epoch 12/25\n",
            "\u001b[1m1/1\u001b[0m \u001b[32m━━━━━━━━━━━━━━━━━━━━\u001b[0m\u001b[37m\u001b[0m \u001b[1m0s\u001b[0m 56ms/step - loss: 8.1261 - mae: 2.6561 - val_loss: 22.6959 - val_mae: 3.9925\n",
            "Epoch 13/25\n",
            "\u001b[1m1/1\u001b[0m \u001b[32m━━━━━━━━━━━━━━━━━━━━\u001b[0m\u001b[37m\u001b[0m \u001b[1m0s\u001b[0m 44ms/step - loss: 7.5375 - mae: 2.5467 - val_loss: 22.0229 - val_mae: 3.9051\n",
            "Epoch 14/25\n",
            "\u001b[1m1/1\u001b[0m \u001b[32m━━━━━━━━━━━━━━━━━━━━\u001b[0m\u001b[37m\u001b[0m \u001b[1m0s\u001b[0m 59ms/step - loss: 6.8731 - mae: 2.4201 - val_loss: 21.2942 - val_mae: 3.8078\n",
            "Epoch 15/25\n",
            "\u001b[1m1/1\u001b[0m \u001b[32m━━━━━━━━━━━━━━━━━━━━\u001b[0m\u001b[37m\u001b[0m \u001b[1m0s\u001b[0m 56ms/step - loss: 6.3840 - mae: 2.3332 - val_loss: 20.5073 - val_mae: 3.6993\n",
            "Epoch 16/25\n",
            "\u001b[1m1/1\u001b[0m \u001b[32m━━━━━━━━━━━━━━━━━━━━\u001b[0m\u001b[37m\u001b[0m \u001b[1m0s\u001b[0m 47ms/step - loss: 5.7764 - mae: 2.1976 - val_loss: 19.6669 - val_mae: 3.5789\n",
            "Epoch 17/25\n",
            "\u001b[1m1/1\u001b[0m \u001b[32m━━━━━━━━━━━━━━━━━━━━\u001b[0m\u001b[37m\u001b[0m \u001b[1m0s\u001b[0m 66ms/step - loss: 5.1165 - mae: 2.0505 - val_loss: 18.7720 - val_mae: 3.4448\n",
            "Epoch 18/25\n",
            "\u001b[1m1/1\u001b[0m \u001b[32m━━━━━━━━━━━━━━━━━━━━\u001b[0m\u001b[37m\u001b[0m \u001b[1m0s\u001b[0m 126ms/step - loss: 4.5197 - mae: 1.8975 - val_loss: 17.8244 - val_mae: 3.2950\n",
            "Epoch 19/25\n",
            "\u001b[1m1/1\u001b[0m \u001b[32m━━━━━━━━━━━━━━━━━━━━\u001b[0m\u001b[37m\u001b[0m \u001b[1m0s\u001b[0m 128ms/step - loss: 3.4266 - mae: 1.6453 - val_loss: 16.8311 - val_mae: 3.1742\n",
            "Epoch 20/25\n",
            "\u001b[1m1/1\u001b[0m \u001b[32m━━━━━━━━━━━━━━━━━━━━\u001b[0m\u001b[37m\u001b[0m \u001b[1m0s\u001b[0m 45ms/step - loss: 2.9996 - mae: 1.4616 - val_loss: 15.8014 - val_mae: 3.0578\n",
            "Epoch 21/25\n",
            "\u001b[1m1/1\u001b[0m \u001b[32m━━━━━━━━━━━━━━━━━━━━\u001b[0m\u001b[37m\u001b[0m \u001b[1m0s\u001b[0m 57ms/step - loss: 2.5129 - mae: 1.3247 - val_loss: 14.7646 - val_mae: 2.9285\n",
            "Epoch 22/25\n",
            "\u001b[1m1/1\u001b[0m \u001b[32m━━━━━━━━━━━━━━━━━━━━\u001b[0m\u001b[37m\u001b[0m \u001b[1m0s\u001b[0m 57ms/step - loss: 1.9817 - mae: 1.0901 - val_loss: 13.7456 - val_mae: 2.7854\n",
            "Epoch 23/25\n",
            "\u001b[1m1/1\u001b[0m \u001b[32m━━━━━━━━━━━━━━━━━━━━\u001b[0m\u001b[37m\u001b[0m \u001b[1m0s\u001b[0m 43ms/step - loss: 1.3557 - mae: 0.8657 - val_loss: 12.7982 - val_mae: 2.6321\n",
            "Epoch 24/25\n",
            "\u001b[1m1/1\u001b[0m \u001b[32m━━━━━━━━━━━━━━━━━━━━\u001b[0m\u001b[37m\u001b[0m \u001b[1m0s\u001b[0m 43ms/step - loss: 0.7345 - mae: 0.6801 - val_loss: 11.9850 - val_mae: 2.4732\n",
            "Epoch 25/25\n",
            "\u001b[1m1/1\u001b[0m \u001b[32m━━━━━━━━━━━━━━━━━━━━\u001b[0m\u001b[37m\u001b[0m \u001b[1m0s\u001b[0m 45ms/step - loss: 0.7345 - mae: 0.7693 - val_loss: 11.3577 - val_mae: 2.3342\n"
          ]
        }
      ],
      "source": [
        "# Convert data to numpy arrays for training\n",
        "train_user_ids = np.array(train_user_ids)\n",
        "train_movie_ids = np.array(train_movie_ids)\n",
        "train_ratings = np.array(train_ratings)\n",
        "test_user_ids = np.array(test_user_ids)\n",
        "test_movie_ids = np.array(test_movie_ids)\n",
        "test_ratings = np.array(test_ratings)\n",
        "\n",
        "# Train the model\n",
        "history = model.fit(\n",
        "    [train_user_ids, train_movie_ids],\n",
        "    train_ratings,\n",
        "    validation_data=([test_user_ids, test_movie_ids], test_ratings),\n",
        "    epochs=25,\n",
        "    batch_size=64\n",
        ")"
      ]
    },
    {
      "cell_type": "markdown",
      "metadata": {
        "id": "YBPTOj3KJNm_"
      },
      "source": [
        "## Step 4.1.4: Evaluate the Model"
      ]
    },
    {
      "cell_type": "code",
      "execution_count": null,
      "metadata": {
        "colab": {
          "base_uri": "https://localhost:8080/",
          "height": 507
        },
        "id": "LeB4yE-NJRDG",
        "outputId": "2f6067ce-e3db-48a0-a8e1-b17751391536"
      },
      "outputs": [
        {
          "output_type": "stream",
          "name": "stdout",
          "text": [
            "\u001b[1m1/1\u001b[0m \u001b[32m━━━━━━━━━━━━━━━━━━━━\u001b[0m\u001b[37m\u001b[0m \u001b[1m0s\u001b[0m 26ms/step - loss: 11.3577 - mae: 2.3342\n",
            "Test Mean Absolute Error: 2.334198236465454\n"
          ]
        },
        {
          "output_type": "display_data",
          "data": {
            "text/plain": [
              "<Figure size 640x480 with 1 Axes>"
            ],
            "image/png": "[encoded data removed]"
          },
          "metadata": {}
        }
      ],
      "source": [
        "# Evaluate the model on test data\n",
        "test_loss, test_mae = model.evaluate([test_user_ids, test_movie_ids], test_ratings)\n",
        "print(f\"Test Mean Absolute Error: {test_mae}\")\n",
        "\n",
        "# Plot training and validation loss over epochs\n",
        "import matplotlib.pyplot as plt\n",
        "\n",
        "plt.plot(history.history['loss'], label='Training Loss')\n",
        "plt.plot(history.history['val_loss'], label='Validation Loss')\n",
        "plt.xlabel('Epochs')\n",
        "plt.ylabel('Loss')\n",
        "plt.legend()\n",
        "plt.title('Training and Validation Loss')\n",
        "plt.show()"
      ]
    },
    {
      "cell_type": "markdown",
      "metadata": {
        "id": "ZkbV3_C6JUGQ"
      },
      "source": [
        "### Step 4.1.5: Make Predictions with the Model"
      ]
    },
    {
      "cell_type": "code",
      "execution_count": null,
      "metadata": {
        "colab": {
          "base_uri": "https://localhost:8080/"
        },
        "id": "tgaNw7nHJWyL",
        "outputId": "fe92be89-d647-4133-9679-ef7ba0477e43"
      },
      "outputs": [
        {
          "output_type": "stream",
          "name": "stdout",
          "text": [
            "Neural Collaborative Filtering Recommendations for user_id 'Peter Howell':\n"
          ]
        },
        {
          "output_type": "stream",
          "name": "stderr",
          "text": [
            "WARNING:tensorflow:5 out of the last 5 calls to <function TensorFlowTrainer.make_predict_function.<locals>.one_step_on_data_distributed at 0x7be07a366320> triggered tf.function retracing. Tracing is expensive and the excessive number of tracings could be due to (1) creating @tf.function repeatedly in a loop, (2) passing tensors with different shapes, (3) passing Python objects instead of tensors. For (1), please define your @tf.function outside of the loop. For (2), @tf.function has reduce_retracing=True option that can avoid unnecessary retracing. For (3), please refer to https://www.tensorflow.org/guide/function#controlling_retracing and https://www.tensorflow.org/api_docs/python/tf/function for  more details.\n"
          ]
        },
        {
          "output_type": "stream",
          "name": "stdout",
          "text": [
            "\u001b[1m1/1\u001b[0m \u001b[32m━━━━━━━━━━━━━━━━━━━━\u001b[0m\u001b[37m\u001b[0m \u001b[1m0s\u001b[0m 237ms/step\n",
            "Index(['m/elizabethtown', 'm/ready_player_one', 'm/spotlight_2015',\n",
            "       'm/runaway_jury', 'm/sexy_beast'],\n",
            "      dtype='object')\n"
          ]
        }
      ],
      "source": [
        "import numpy as np\n",
        "\n",
        "# Encode all unique users and movies\n",
        "filtered_df['user_encoded'] = filtered_df['critic_name'].astype('category').cat.codes\n",
        "filtered_df['movie_encoded'] = filtered_df['rotten_tomatoes_link'].astype('category').cat.codes\n",
        "\n",
        "# Create mappings for critic_name and rotten_tomatoes_link to their encoded values\n",
        "user_id_mapping = dict(zip(filtered_df['critic_name'], filtered_df['user_encoded']))\n",
        "movie_id_mapping = dict(zip(filtered_df['rotten_tomatoes_link'], filtered_df['movie_encoded']))\n",
        "\n",
        "def recommend_movies_neural(user_id, top_n=5):\n",
        "    # Get the encoded user ID\n",
        "    if user_id not in user_id_mapping:\n",
        "        return f\"User '{user_id}' not found in the dataset.\"\n",
        "    user_encoded = user_id_mapping[user_id]\n",
        "\n",
        "    # Predict ratings for all movies for the given user\n",
        "    movie_ids = np.array([i for i in range(num_movies)])\n",
        "    user_ids = np.array([user_encoded for _ in range(num_movies)])\n",
        "    predicted_ratings = model.predict([user_ids, movie_ids]).flatten()\n",
        "\n",
        "    # Get top-n recommendations by rating\n",
        "    top_indices = predicted_ratings.argsort()[-top_n:][::-1]\n",
        "    recommended_movie_titles = filtered_df['rotten_tomatoes_link'].astype('category').cat.categories[top_indices]\n",
        "\n",
        "    return recommended_movie_titles\n",
        "\n",
        "# Test recommendation for a user (replace 'Peter Howell' with an actual user ID in your dataset)\n",
        "print(\"Neural Collaborative Filtering Recommendations for user_id 'Peter Howell':\")\n",
        "print(recommend_movies_neural('Peter Howell'))"
      ]
    },
    {
      "cell_type": "markdown",
      "metadata": {
        "id": "FZvXrF_bKMrG"
      },
      "source": [
        "# Step 4.2: Build Deep NLP Models for Content-Based Filtering"
      ]
    },
    {
      "cell_type": "markdown",
      "metadata": {
        "id": "xu_KBIPDKWXg"
      },
      "source": [
        "## Step 4.2.1: Import Necessary Libraries"
      ]
    },
    {
      "cell_type": "code",
      "execution_count": null,
      "metadata": {
        "id": "ZPrvfm4bKgEL"
      },
      "outputs": [],
      "source": [
        "import numpy as np\n",
        "import pandas as pd\n",
        "from transformers import BertTokenizer, BertModel\n",
        "import torch\n",
        "from sklearn.metrics.pairwise import cosine_similarity"
      ]
    },
    {
      "cell_type": "markdown",
      "metadata": {
        "id": "1zwlggUZKm9W"
      },
      "source": [
        "## Step 4.2.2: Load BERT and Tokenizer"
      ]
    },
    {
      "cell_type": "code",
      "execution_count": null,
      "metadata": {
        "colab": {
          "base_uri": "https://localhost:8080/",
          "height": 342,
          "referenced_widgets": [
            "7c447e045357416cb49dd4f9ad5b1f9a",
            "3fc07b39dd2f4ddca59b591a332dc677",
            "f651d08333f14bf59117c0af70a739ba",
            "93ac138497fb4074a4247cf74099b4f8",
            "ea21d6dba6ad428bbf6ecc8bff792095",
            "5ff86c1843ab480786f616fc2f2372c2",
            "1034d1bdec0744aabc88956ada120539",
            "b74147e67f674ec1aaa196ce2445c993",
            "c29971e8087c48e0add5ea2a499ac696",
            "240d2ec434ca41c0a607c686cb838371",
            "22b946debe7b4fce87bba98bb0b0d0dd",
            "f87742fc52ad4168a2418b0043f8e959",
            "877728063c7645438054d749a5ca74db",
            "ecac5b20863d445f84a82d5590a5bb64",
            "5454438e4ed0479f9036c78248263bd5",
            "add238a7cc91422e929b2e1a5f67d853",
            "beb13e79c2494f7cbdceb413fb7b44be",
            "b474aa84d2ec42bfa776f83a8a108e7b",
            "4b9116c87c564eabb6561dbecec6e99b",
            "ef69f7efa8b94fa59632dbd4a57eb7e1",
            "3182b7adf76349c5bf4ccc229f0905d3",
            "173f0c0e548f4a00a9d146d7ea76f796",
            "e3a79ab9113c4e70a7efa6a98cf32292",
            "b19ac2a42cd84d49a6c060241cc5a27b",
            "179a46e2a0224cdba898f28ea189c198",
            "6b7ea1a9560443769f3e53b33b4887a9",
            "45498f2af923458c897a71003cbbb21a",
            "6a6df74123614b8f9d18db424c194628",
            "c01f6310fa6443839526013a713d20a0",
            "917f44b1f08249859478d1d78a20da22",
            "8ba88e114cfd4efd8d28216b3fc3b79a",
            "0ad8c5d22eb44f149a9da57f4bac1709",
            "40bfe603bad140628e98b3b823de4a55",
            "8fb584e641a64051a78b8664ee790a73",
            "4b21e5c41f9a4d5395a44347723ec296",
            "3cc7b048377e42488b5927a41535124e",
            "5e5ea1c28b084d2ba866e75e052580ec",
            "68107c9293a6459d89ebcc2697da7d2b",
            "461da81f58bd47bcae9330fa2cf870e2",
            "e5e24a61361444aca3bcbb3e2d47f1d3",
            "cf347793381049c8913eafbe462b9670",
            "0601fa97fbb4459b81d5d46c3a603bc1",
            "19a8ef2b945d43d4a7fe9ad3b29dc878",
            "638399dede8b402b88659942ad72d657",
            "e2a9e1b4109044ecae618dba9037ff81",
            "dd3df03dfd33431785e352ae71d37669",
            "a179a0e1cc0f4472abfea844e1af0413",
            "2a3e324081694e2faa90b4320df7146b",
            "d77a5f708ede4a1ea468fac7220f5c1a",
            "bee835f16ddd46aa864ced898c3563cb",
            "4fb6540aa06f4f1485487ea8deea0db6",
            "9eb1e55a306c41ffb0a4d5331927ede5",
            "caff61aa636c4807a1e7021371648e48",
            "4e0c663232b1400593a3347a34278aff",
            "d515f718e75b4c549031fad64e755c4c"
          ]
        },
        "id": "_6K4ah84Ks3r",
        "outputId": "ce59853e-b9b4-4448-b265-48400c1deb30"
      },
      "outputs": [
        {
          "output_type": "stream",
          "name": "stderr",
          "text": [
            "/usr/local/lib/python3.10/dist-packages/huggingface_hub/utils/_token.py:89: UserWarning: \n",
            "The secret `HF_TOKEN` does not exist in your Colab secrets.\n",
            "To authenticate with the Hugging Face Hub, create a token in your settings tab (https://huggingface.co/settings/tokens), set it as secret in your Google Colab and restart your session.\n",
            "You will be able to reuse this secret in all of your notebooks.\n",
            "Please note that authentication is recommended but still optional to access public models or datasets.\n",
            "  warnings.warn(\n"
          ]
        },
        {
          "output_type": "display_data",
          "data": {
            "text/plain": [
              "tokenizer_config.json:   0%|          | 0.00/48.0 [00:00<?, ?B/s]"
            ],
            "application/vnd.jupyter.widget-view+json": {
              "version_major": 2,
              "version_minor": 0,
              "model_id": "7c447e045357416cb49dd4f9ad5b1f9a"
            }
          },
          "metadata": {}
        },
        {
          "output_type": "display_data",
          "data": {
            "text/plain": [
              "vocab.txt:   0%|          | 0.00/232k [00:00<?, ?B/s]"
            ],
            "application/vnd.jupyter.widget-view+json": {
              "version_major": 2,
              "version_minor": 0,
              "model_id": "f87742fc52ad4168a2418b0043f8e959"
            }
          },
          "metadata": {}
        },
        {
          "output_type": "display_data",
          "data": {
            "text/plain": [
              "tokenizer.json:   0%|          | 0.00/466k [00:00<?, ?B/s]"
            ],
            "application/vnd.jupyter.widget-view+json": {
              "version_major": 2,
              "version_minor": 0,
              "model_id": "e3a79ab9113c4e70a7efa6a98cf32292"
            }
          },
          "metadata": {}
        },
        {
          "output_type": "display_data",
          "data": {
            "text/plain": [
              "config.json:   0%|          | 0.00/570 [00:00<?, ?B/s]"
            ],
            "application/vnd.jupyter.widget-view+json": {
              "version_major": 2,
              "version_minor": 0,
              "model_id": "8fb584e641a64051a78b8664ee790a73"
            }
          },
          "metadata": {}
        },
        {
          "output_type": "stream",
          "name": "stderr",
          "text": [
            "/usr/local/lib/python3.10/dist-packages/transformers/tokenization_utils_base.py:1601: FutureWarning: `clean_up_tokenization_spaces` was not set. It will be set to `True` by default. This behavior will be depracted in transformers v4.45, and will be then set to `False` by default. For more details check this issue: https://github.com/huggingface/transformers/issues/31884\n",
            "  warnings.warn(\n"
          ]
        },
        {
          "output_type": "display_data",
          "data": {
            "text/plain": [
              "model.safetensors:   0%|          | 0.00/440M [00:00<?, ?B/s]"
            ],
            "application/vnd.jupyter.widget-view+json": {
              "version_major": 2,
              "version_minor": 0,
              "model_id": "e2a9e1b4109044ecae618dba9037ff81"
            }
          },
          "metadata": {}
        }
      ],
      "source": [
        "# Load pre-trained BERT model and tokenizer\n",
        "tokenizer = BertTokenizer.from_pretrained('bert-base-uncased')\n",
        "bert_model = BertModel.from_pretrained('bert-base-uncased')"
      ]
    },
    {
      "cell_type": "markdown",
      "metadata": {
        "id": "jgfwoS11KvIc"
      },
      "source": [
        "## Step 4.2.3: Generate BERT Embeddings for Synopses"
      ]
    },
    {
      "cell_type": "code",
      "execution_count": null,
      "metadata": {
        "id": "qC0KXywOKytV"
      },
      "outputs": [],
      "source": [
        "# Function to compute BERT embeddings for a given text\n",
        "def get_bert_embedding(text):\n",
        "    # Tokenize the text and get input IDs and attention mask\n",
        "    inputs = tokenizer(text, return_tensors='pt', truncation=True, padding=True, max_length=128)\n",
        "    with torch.no_grad():\n",
        "        outputs = bert_model(**inputs)\n",
        "    # Average the last hidden states to get a single embedding vector\n",
        "    embeddings = outputs.last_hidden_state.mean(dim=1).squeeze().numpy()\n",
        "    return embeddings\n",
        "\n",
        "# Generate BERT embeddings for all movie synopses in the dataset\n",
        "synopsis_embeddings = np.array([get_bert_embedding(text) for text in merged_df['cleaned_synopsis']])"
      ]
    },
    {
      "cell_type": "markdown",
      "metadata": {
        "id": "qn8vHsQhK5Dw"
      },
      "source": [
        "## Step 4.2.4: Build a Content-Based Recommender Using BERT Embeddings"
      ]
    },
    {
      "cell_type": "code",
      "execution_count": null,
      "metadata": {
        "id": "osjS5BlCK7rI",
        "colab": {
          "base_uri": "https://localhost:8080/"
        },
        "outputId": "e870d1b8-2290-4374-9710-bf3bf8b2a095"
      },
      "outputs": [
        {
          "output_type": "stream",
          "name": "stdout",
          "text": [
            "BERT-based Content Recommendations for 'Sleeping Beauty':\n",
            "                    movie_title  \\\n",
            "1989            Sleeping Beauty   \n",
            "1969  The Notorious Bettie Page   \n",
            "3065               Burn Country   \n",
            "76      Seducing Charlie Barker   \n",
            "3430         7 Chinese Brothers   \n",
            "\n",
            "                                             movie_info  \n",
            "1989  A college student (Emily Browning) becomes a n...  \n",
            "1969  Following a failed marriage and a gang rape, B...  \n",
            "3065  An exiled Afghan journalist moves to Northern ...  \n",
            "76    An out-of-work actor (Stephen Barker Turner) c...  \n",
            "3430  Fired from a restaurant, a hard-drinking slack...  \n"
          ]
        }
      ],
      "source": [
        "# Compute cosine similarity between BERT embeddings of all movies\n",
        "synopsis_similarity_bert = cosine_similarity(synopsis_embeddings)\n",
        "\n",
        "# Function to recommend movies based on BERT-based synopsis similarity\n",
        "def bert_content_recommendations(movie_title, top_n=5):\n",
        "    # Find the index of the movie\n",
        "    movie_idx = merged_df[merged_df['movie_title'].str.lower() == movie_title.lower()].index[0]\n",
        "\n",
        "    # Get similarity scores for all movies\n",
        "    sim_scores = list(enumerate(synopsis_similarity_bert[movie_idx]))\n",
        "\n",
        "    # Sort movies based on similarity scores\n",
        "    sim_scores = sorted(sim_scores, key=lambda x: x[1], reverse=True)\n",
        "\n",
        "    # Get the indices of the top_n most similar movies (excluding itself)\n",
        "    top_movie_indices = [i[0] for i in sim_scores[1:top_n+1]]\n",
        "\n",
        "    # Return the top_n most similar movies\n",
        "    return merged_df[['movie_title', 'movie_info']].iloc[top_movie_indices]\n",
        "\n",
        "# Test the BERT-based content recommendation function\n",
        "print(\"BERT-based Content Recommendations for 'Sleeping Beauty':\")\n",
        "print(bert_content_recommendations('Sleeping Beauty'))"
      ]
    },
    {
      "cell_type": "markdown",
      "metadata": {
        "id": "ND6wDdYnLvbD"
      },
      "source": [
        "# Step 5: Finalize Recommendation Functions for Easy Access"
      ]
    },
    {
      "cell_type": "markdown",
      "metadata": {
        "id": "JZVvpGKHLxhu"
      },
      "source": [
        "## Step 5.1: Content-Based Recommendations using BERT Embeddings"
      ]
    },
    {
      "cell_type": "code",
      "execution_count": null,
      "metadata": {
        "id": "iWB_RR3eL1DK"
      },
      "outputs": [],
      "source": [
        "def recommend_content_based(movie_title, top_n=5):\n",
        "    \"\"\"Recommend movies based on content similarity using BERT embeddings.\"\"\"\n",
        "    try:\n",
        "        return bert_content_recommendations(movie_title, top_n=top_n)\n",
        "    except IndexError:\n",
        "        return f\"Movie '{movie_title}' not found in dataset.\""
      ]
    },
    {
      "cell_type": "markdown",
      "metadata": {
        "id": "FWybzhgXL5_J"
      },
      "source": [
        "## Step 5.2: Collaborative Filtering Recommendations (Non-Neural)"
      ]
    },
    {
      "cell_type": "code",
      "execution_count": null,
      "metadata": {
        "id": "HzkeTPMuL7kB"
      },
      "outputs": [],
      "source": [
        "def recommend_collaborative(user_id, top_n=5):\n",
        "    \"\"\"Recommend movies based on collaborative filtering using user similarity.\"\"\"\n",
        "    try:\n",
        "        return collaborative_recommendations(user_id, top_n=top_n)\n",
        "    except KeyError:\n",
        "        return f\"User '{user_id}' not found in dataset.\""
      ]
    },
    {
      "cell_type": "markdown",
      "metadata": {
        "id": "D4lShuSQL98f"
      },
      "source": [
        "## Step 5.3: Neural Collaborative Filtering Recommendations"
      ]
    },
    {
      "cell_type": "code",
      "execution_count": null,
      "metadata": {
        "id": "Vl_gJzHEMBXu"
      },
      "outputs": [],
      "source": [
        "def recommend_neural_collaborative(user_id, top_n=5):\n",
        "    \"\"\"Recommend movies based on neural collaborative filtering model.\"\"\"\n",
        "    try:\n",
        "        return recommend_movies_neural(user_id, top_n=top_n)\n",
        "    except KeyError:\n",
        "        return f\"User '{user_id}' not found in dataset.\""
      ]
    },
    {
      "cell_type": "markdown",
      "metadata": {
        "id": "nJv-ZC-VMD4x"
      },
      "source": [
        "## Step 5.4: Recommendation Function"
      ]
    },
    {
      "cell_type": "code",
      "execution_count": null,
      "metadata": {
        "id": "u_rc4TqyMGmC"
      },
      "outputs": [],
      "source": [
        "def recommend_movies(method, user_id=None, movie_title=None, top_n=5):\n",
        "    \"\"\"\n",
        "    Unified function to recommend movies based on selected method.\n",
        "\n",
        "    Parameters:\n",
        "    - method: 'content_based', 'collaborative', or 'neural_collaborative'\n",
        "    - user_id: User ID for collaborative and neural collaborative methods\n",
        "    - movie_title: Movie title for content-based method\n",
        "    - top_n: Number of recommendations to return\n",
        "\n",
        "    Returns:\n",
        "    - List of recommended movies or a message if the user/movie is not found\n",
        "    \"\"\"\n",
        "    if method == 'content_based' and movie_title:\n",
        "        return recommend_content_based(movie_title, top_n)\n",
        "    elif method == 'collaborative' and user_id:\n",
        "        return recommend_collaborative(user_id, top_n)\n",
        "    elif method == 'neural_collaborative' and user_id:\n",
        "        return recommend_neural_collaborative(user_id, top_n)\n",
        "    else:\n",
        "        return \"Please provide a valid method and relevant user_id or movie_title.\""
      ]
    },
    {
      "cell_type": "markdown",
      "metadata": {
        "id": "1WZL6hZ5MI9D"
      },
      "source": [
        "## Step 5.5: Test the Recommendation System"
      ]
    },
    {
      "cell_type": "code",
      "execution_count": null,
      "metadata": {
        "id": "GZEg4PmPMLC7",
        "colab": {
          "base_uri": "https://localhost:8080/"
        },
        "outputId": "cfceefe2-dd08-4cd1-c081-d58780450a33"
      },
      "outputs": [
        {
          "output_type": "stream",
          "name": "stdout",
          "text": [
            "Content-Based Recommendations for 'Sleeping Beauty':\n",
            "                    movie_title  \\\n",
            "1989            Sleeping Beauty   \n",
            "1969  The Notorious Bettie Page   \n",
            "3065               Burn Country   \n",
            "76      Seducing Charlie Barker   \n",
            "3430         7 Chinese Brothers   \n",
            "\n",
            "                                             movie_info  \n",
            "1989  A college student (Emily Browning) becomes a n...  \n",
            "1969  Following a failed marriage and a gang rape, B...  \n",
            "3065  An exiled Afghan journalist moves to Northern ...  \n",
            "76    An out-of-work actor (Stephen Barker Turner) c...  \n",
            "3430  Fired from a restaurant, a hard-drinking slack...  \n",
            "\n",
            "Collaborative Filtering Recommendations for user_id 'Peter Howell':\n",
            "['Elizabethtown', 'Sexy Beast', 'Let Me In', 'Star Trek', 'Secret Window']\n",
            "\n",
            "Neural Collaborative Filtering Recommendations for user_id 'Peter Howell':\n",
            "\u001b[1m1/1\u001b[0m \u001b[32m━━━━━━━━━━━━━━━━━━━━\u001b[0m\u001b[37m\u001b[0m \u001b[1m0s\u001b[0m 30ms/step\n",
            "Index(['m/star_trek_11', 'm/slumdog_millionaire', 'm/secret_window',\n",
            "       'm/let_me_in', 'm/portrait_of_a_lady_on_fire'],\n",
            "      dtype='object')\n"
          ]
        }
      ],
      "source": [
        "# Example: Content-based recommendations for a specific movie\n",
        "print(\"Content-Based Recommendations for 'Sleeping Beauty':\")\n",
        "print(recommend_movies(method='content_based', movie_title='Sleeping Beauty', top_n=5))\n",
        "\n",
        "# Example: Collaborative filtering recommendations for a specific user\n",
        "print(\"\\nCollaborative Filtering Recommendations for user_id 'Peter Howell':\")\n",
        "print(recommend_movies(method='collaborative', user_id='Peter Howell', top_n=5))\n",
        "\n",
        "# Example: Neural collaborative filtering recommendations for a specific user\n",
        "print(\"\\nNeural Collaborative Filtering Recommendations for user_id 'Peter Howell':\")\n",
        "print(recommend_movies(method='neural_collaborative', user_id='Peter Howell', top_n=5))"
      ]
    }
  ],
  "metadata": {
    "accelerator": "GPU",
    "colab": {
      "gpuType": "T4",
      "provenance": []
    },
    "kernelspec": {
      "display_name": "Python 3",
      "name": "python3"
    },
    "language_info": {
      "name": "python"
    },
    "widgets": {
      "application/vnd.jupyter.widget-state+json": {
        "7c447e045357416cb49dd4f9ad5b1f9a": {
          "model_module": "@jupyter-widgets/controls",
          "model_name": "HBoxModel",
          "model_module_version": "1.5.0",
          "state": {
            "_dom_classes": [],
            "_model_module": "@jupyter-widgets/controls",
            "_model_module_version": "1.5.0",
            "_model_name": "HBoxModel",
            "_view_count": null,
            "_view_module": "@jupyter-widgets/controls",
            "_view_module_version": "1.5.0",
            "_view_name": "HBoxView",
            "box_style": "",
            "children": [
              "IPY_MODEL_3fc07b39dd2f4ddca59b591a332dc677",
              "IPY_MODEL_f651d08333f14bf59117c0af70a739ba",
              "IPY_MODEL_93ac138497fb4074a4247cf74099b4f8"
            ],
            "layout": "IPY_MODEL_ea21d6dba6ad428bbf6ecc8bff792095"
          }
        },
        "3fc07b39dd2f4ddca59b591a332dc677": {
          "model_module": "@jupyter-widgets/controls",
          "model_name": "HTMLModel",
          "model_module_version": "1.5.0",
          "state": {
            "_dom_classes": [],
            "_model_module": "@jupyter-widgets/controls",
            "_model_module_version": "1.5.0",
            "_model_name": "HTMLModel",
            "_view_count": null,
            "_view_module": "@jupyter-widgets/controls",
            "_view_module_version": "1.5.0",
            "_view_name": "HTMLView",
            "description": "",
            "description_tooltip": null,
            "layout": "IPY_MODEL_5ff86c1843ab480786f616fc2f2372c2",
            "placeholder": "​",
            "style": "IPY_MODEL_1034d1bdec0744aabc88956ada120539",
            "value": "tokenizer_config.json: 100%"
          }
        },
        "f651d08333f14bf59117c0af70a739ba": {
          "model_module": "@jupyter-widgets/controls",
          "model_name": "FloatProgressModel",
          "model_module_version": "1.5.0",
          "state": {
            "_dom_classes": [],
            "_model_module": "@jupyter-widgets/controls",
            "_model_module_version": "1.5.0",
            "_model_name": "FloatProgressModel",
            "_view_count": null,
            "_view_module": "@jupyter-widgets/controls",
            "_view_module_version": "1.5.0",
            "_view_name": "ProgressView",
            "bar_style": "success",
            "description": "",
            "description_tooltip": null,
            "layout": "IPY_MODEL_b74147e67f674ec1aaa196ce2445c993",
            "max": 48,
            "min": 0,
            "orientation": "horizontal",
            "style": "IPY_MODEL_c29971e8087c48e0add5ea2a499ac696",
            "value": 48
          }
        },
        "93ac138497fb4074a4247cf74099b4f8": {
          "model_module": "@jupyter-widgets/controls",
          "model_name": "HTMLModel",
          "model_module_version": "1.5.0",
          "state": {
            "_dom_classes": [],
            "_model_module": "@jupyter-widgets/controls",
            "_model_module_version": "1.5.0",
            "_model_name": "HTMLModel",
            "_view_count": null,
            "_view_module": "@jupyter-widgets/controls",
            "_view_module_version": "1.5.0",
            "_view_name": "HTMLView",
            "description": "",
            "description_tooltip": null,
            "layout": "IPY_MODEL_240d2ec434ca41c0a607c686cb838371",
            "placeholder": "​",
            "style": "IPY_MODEL_22b946debe7b4fce87bba98bb0b0d0dd",
            "value": " 48.0/48.0 [00:00&lt;00:00, 3.17kB/s]"
          }
        },
        "ea21d6dba6ad428bbf6ecc8bff792095": {
          "model_module": "@jupyter-widgets/base",
          "model_name": "LayoutModel",
          "model_module_version": "1.2.0",
          "state": {
            "_model_module": "@jupyter-widgets/base",
            "_model_module_version": "1.2.0",
            "_model_name": "LayoutModel",
            "_view_count": null,
            "_view_module": "@jupyter-widgets/base",
            "_view_module_version": "1.2.0",
            "_view_name": "LayoutView",
            "align_content": null,
            "align_items": null,
            "align_self": null,
            "border": null,
            "bottom": null,
            "display": null,
            "flex": null,
            "flex_flow": null,
            "grid_area": null,
            "grid_auto_columns": null,
            "grid_auto_flow": null,
            "grid_auto_rows": null,
            "grid_column": null,
            "grid_gap": null,
            "grid_row": null,
            "grid_template_areas": null,
            "grid_template_columns": null,
            "grid_template_rows": null,
            "height": null,
            "justify_content": null,
            "justify_items": null,
            "left": null,
            "margin": null,
            "max_height": null,
            "max_width": null,
            "min_height": null,
            "min_width": null,
            "object_fit": null,
            "object_position": null,
            "order": null,
            "overflow": null,
            "overflow_x": null,
            "overflow_y": null,
            "padding": null,
            "right": null,
            "top": null,
            "visibility": null,
            "width": null
          }
        },
        "5ff86c1843ab480786f616fc2f2372c2": {
          "model_module": "@jupyter-widgets/base",
          "model_name": "LayoutModel",
          "model_module_version": "1.2.0",
          "state": {
            "_model_module": "@jupyter-widgets/base",
            "_model_module_version": "1.2.0",
            "_model_name": "LayoutModel",
            "_view_count": null,
            "_view_module": "@jupyter-widgets/base",
            "_view_module_version": "1.2.0",
            "_view_name": "LayoutView",
            "align_content": null,
            "align_items": null,
            "align_self": null,
            "border": null,
            "bottom": null,
            "display": null,
            "flex": null,
            "flex_flow": null,
            "grid_area": null,
            "grid_auto_columns": null,
            "grid_auto_flow": null,
            "grid_auto_rows": null,
            "grid_column": null,
            "grid_gap": null,
            "grid_row": null,
            "grid_template_areas": null,
            "grid_template_columns": null,
            "grid_template_rows": null,
            "height": null,
            "justify_content": null,
            "justify_items": null,
            "left": null,
            "margin": null,
            "max_height": null,
            "max_width": null,
            "min_height": null,
            "min_width": null,
            "object_fit": null,
            "object_position": null,
            "order": null,
            "overflow": null,
            "overflow_x": null,
            "overflow_y": null,
            "padding": null,
            "right": null,
            "top": null,
            "visibility": null,
            "width": null
          }
        },
        "1034d1bdec0744aabc88956ada120539": {
          "model_module": "@jupyter-widgets/controls",
          "model_name": "DescriptionStyleModel",
          "model_module_version": "1.5.0",
          "state": {
            "_model_module": "@jupyter-widgets/controls",
            "_model_module_version": "1.5.0",
            "_model_name": "DescriptionStyleModel",
            "_view_count": null,
            "_view_module": "@jupyter-widgets/base",
            "_view_module_version": "1.2.0",
            "_view_name": "StyleView",
            "description_width": ""
          }
        },
        "b74147e67f674ec1aaa196ce2445c993": {
          "model_module": "@jupyter-widgets/base",
          "model_name": "LayoutModel",
          "model_module_version": "1.2.0",
          "state": {
            "_model_module": "@jupyter-widgets/base",
            "_model_module_version": "1.2.0",
            "_model_name": "LayoutModel",
            "_view_count": null,
            "_view_module": "@jupyter-widgets/base",
            "_view_module_version": "1.2.0",
            "_view_name": "LayoutView",
            "align_content": null,
            "align_items": null,
            "align_self": null,
            "border": null,
            "bottom": null,
            "display": null,
            "flex": null,
            "flex_flow": null,
            "grid_area": null,
            "grid_auto_columns": null,
            "grid_auto_flow": null,
            "grid_auto_rows": null,
            "grid_column": null,
            "grid_gap": null,
            "grid_row": null,
            "grid_template_areas": null,
            "grid_template_columns": null,
            "grid_template_rows": null,
            "height": null,
            "justify_content": null,
            "justify_items": null,
            "left": null,
            "margin": null,
            "max_height": null,
            "max_width": null,
            "min_height": null,
            "min_width": null,
            "object_fit": null,
            "object_position": null,
            "order": null,
            "overflow": null,
            "overflow_x": null,
            "overflow_y": null,
            "padding": null,
            "right": null,
            "top": null,
            "visibility": null,
            "width": null
          }
        },
        "c29971e8087c48e0add5ea2a499ac696": {
          "model_module": "@jupyter-widgets/controls",
          "model_name": "ProgressStyleModel",
          "model_module_version": "1.5.0",
          "state": {
            "_model_module": "@jupyter-widgets/controls",
            "_model_module_version": "1.5.0",
            "_model_name": "ProgressStyleModel",
            "_view_count": null,
            "_view_module": "@jupyter-widgets/base",
            "_view_module_version": "1.2.0",
            "_view_name": "StyleView",
            "bar_color": null,
            "description_width": ""
          }
        },
        "240d2ec434ca41c0a607c686cb838371": {
          "model_module": "@jupyter-widgets/base",
          "model_name": "LayoutModel",
          "model_module_version": "1.2.0",
          "state": {
            "_model_module": "@jupyter-widgets/base",
            "_model_module_version": "1.2.0",
            "_model_name": "LayoutModel",
            "_view_count": null,
            "_view_module": "@jupyter-widgets/base",
            "_view_module_version": "1.2.0",
            "_view_name": "LayoutView",
            "align_content": null,
            "align_items": null,
            "align_self": null,
            "border": null,
            "bottom": null,
            "display": null,
            "flex": null,
            "flex_flow": null,
            "grid_area": null,
            "grid_auto_columns": null,
            "grid_auto_flow": null,
            "grid_auto_rows": null,
            "grid_column": null,
            "grid_gap": null,
            "grid_row": null,
            "grid_template_areas": null,
            "grid_template_columns": null,
            "grid_template_rows": null,
            "height": null,
            "justify_content": null,
            "justify_items": null,
            "left": null,
            "margin": null,
            "max_height": null,
            "max_width": null,
            "min_height": null,
            "min_width": null,
            "object_fit": null,
            "object_position": null,
            "order": null,
            "overflow": null,
            "overflow_x": null,
            "overflow_y": null,
            "padding": null,
            "right": null,
            "top": null,
            "visibility": null,
            "width": null
          }
        },
        "22b946debe7b4fce87bba98bb0b0d0dd": {
          "model_module": "@jupyter-widgets/controls",
          "model_name": "DescriptionStyleModel",
          "model_module_version": "1.5.0",
          "state": {
            "_model_module": "@jupyter-widgets/controls",
            "_model_module_version": "1.5.0",
            "_model_name": "DescriptionStyleModel",
            "_view_count": null,
            "_view_module": "@jupyter-widgets/base",
            "_view_module_version": "1.2.0",
            "_view_name": "StyleView",
            "description_width": ""
          }
        },
        "f87742fc52ad4168a2418b0043f8e959": {
          "model_module": "@jupyter-widgets/controls",
          "model_name": "HBoxModel",
          "model_module_version": "1.5.0",
          "state": {
            "_dom_classes": [],
            "_model_module": "@jupyter-widgets/controls",
            "_model_module_version": "1.5.0",
            "_model_name": "HBoxModel",
            "_view_count": null,
            "_view_module": "@jupyter-widgets/controls",
            "_view_module_version": "1.5.0",
            "_view_name": "HBoxView",
            "box_style": "",
            "children": [
              "IPY_MODEL_877728063c7645438054d749a5ca74db",
              "IPY_MODEL_ecac5b20863d445f84a82d5590a5bb64",
              "IPY_MODEL_5454438e4ed0479f9036c78248263bd5"
            ],
            "layout": "IPY_MODEL_add238a7cc91422e929b2e1a5f67d853"
          }
        },
        "877728063c7645438054d749a5ca74db": {
          "model_module": "@jupyter-widgets/controls",
          "model_name": "HTMLModel",
          "model_module_version": "1.5.0",
          "state": {
            "_dom_classes": [],
            "_model_module": "@jupyter-widgets/controls",
            "_model_module_version": "1.5.0",
            "_model_name": "HTMLModel",
            "_view_count": null,
            "_view_module": "@jupyter-widgets/controls",
            "_view_module_version": "1.5.0",
            "_view_name": "HTMLView",
            "description": "",
            "description_tooltip": null,
            "layout": "IPY_MODEL_beb13e79c2494f7cbdceb413fb7b44be",
            "placeholder": "​",
            "style": "IPY_MODEL_b474aa84d2ec42bfa776f83a8a108e7b",
            "value": "vocab.txt: 100%"
          }
        },
        "ecac5b20863d445f84a82d5590a5bb64": {
          "model_module": "@jupyter-widgets/controls",
          "model_name": "FloatProgressModel",
          "model_module_version": "1.5.0",
          "state": {
            "_dom_classes": [],
            "_model_module": "@jupyter-widgets/controls",
            "_model_module_version": "1.5.0",
            "_model_name": "FloatProgressModel",
            "_view_count": null,
            "_view_module": "@jupyter-widgets/controls",
            "_view_module_version": "1.5.0",
            "_view_name": "ProgressView",
            "bar_style": "success",
            "description": "",
            "description_tooltip": null,
            "layout": "IPY_MODEL_4b9116c87c564eabb6561dbecec6e99b",
            "max": 231508,
            "min": 0,
            "orientation": "horizontal",
            "style": "IPY_MODEL_ef69f7efa8b94fa59632dbd4a57eb7e1",
            "value": 231508
          }
        },
        "5454438e4ed0479f9036c78248263bd5": {
          "model_module": "@jupyter-widgets/controls",
          "model_name": "HTMLModel",
          "model_module_version": "1.5.0",
          "state": {
            "_dom_classes": [],
            "_model_module": "@jupyter-widgets/controls",
            "_model_module_version": "1.5.0",
            "_model_name": "HTMLModel",
            "_view_count": null,
            "_view_module": "@jupyter-widgets/controls",
            "_view_module_version": "1.5.0",
            "_view_name": "HTMLView",
            "description": "",
            "description_tooltip": null,
            "layout": "IPY_MODEL_3182b7adf76349c5bf4ccc229f0905d3",
            "placeholder": "​",
            "style": "IPY_MODEL_173f0c0e548f4a00a9d146d7ea76f796",
            "value": " 232k/232k [00:00&lt;00:00, 3.02MB/s]"
          }
        },
        "add238a7cc91422e929b2e1a5f67d853": {
          "model_module": "@jupyter-widgets/base",
          "model_name": "LayoutModel",
          "model_module_version": "1.2.0",
          "state": {
            "_model_module": "@jupyter-widgets/base",
            "_model_module_version": "1.2.0",
            "_model_name": "LayoutModel",
            "_view_count": null,
            "_view_module": "@jupyter-widgets/base",
            "_view_module_version": "1.2.0",
            "_view_name": "LayoutView",
            "align_content": null,
            "align_items": null,
            "align_self": null,
            "border": null,
            "bottom": null,
            "display": null,
            "flex": null,
            "flex_flow": null,
            "grid_area": null,
            "grid_auto_columns": null,
            "grid_auto_flow": null,
            "grid_auto_rows": null,
            "grid_column": null,
            "grid_gap": null,
            "grid_row": null,
            "grid_template_areas": null,
            "grid_template_columns": null,
            "grid_template_rows": null,
            "height": null,
            "justify_content": null,
            "justify_items": null,
            "left": null,
            "margin": null,
            "max_height": null,
            "max_width": null,
            "min_height": null,
            "min_width": null,
            "object_fit": null,
            "object_position": null,
            "order": null,
            "overflow": null,
            "overflow_x": null,
            "overflow_y": null,
            "padding": null,
            "right": null,
            "top": null,
            "visibility": null,
            "width": null
          }
        },
        "beb13e79c2494f7cbdceb413fb7b44be": {
          "model_module": "@jupyter-widgets/base",
          "model_name": "LayoutModel",
          "model_module_version": "1.2.0",
          "state": {
            "_model_module": "@jupyter-widgets/base",
            "_model_module_version": "1.2.0",
            "_model_name": "LayoutModel",
            "_view_count": null,
            "_view_module": "@jupyter-widgets/base",
            "_view_module_version": "1.2.0",
            "_view_name": "LayoutView",
            "align_content": null,
            "align_items": null,
            "align_self": null,
            "border": null,
            "bottom": null,
            "display": null,
            "flex": null,
            "flex_flow": null,
            "grid_area": null,
            "grid_auto_columns": null,
            "grid_auto_flow": null,
            "grid_auto_rows": null,
            "grid_column": null,
            "grid_gap": null,
            "grid_row": null,
            "grid_template_areas": null,
            "grid_template_columns": null,
            "grid_template_rows": null,
            "height": null,
            "justify_content": null,
            "justify_items": null,
            "left": null,
            "margin": null,
            "max_height": null,
            "max_width": null,
            "min_height": null,
            "min_width": null,
            "object_fit": null,
            "object_position": null,
            "order": null,
            "overflow": null,
            "overflow_x": null,
            "overflow_y": null,
            "padding": null,
            "right": null,
            "top": null,
            "visibility": null,
            "width": null
          }
        },
        "b474aa84d2ec42bfa776f83a8a108e7b": {
          "model_module": "@jupyter-widgets/controls",
          "model_name": "DescriptionStyleModel",
          "model_module_version": "1.5.0",
          "state": {
            "_model_module": "@jupyter-widgets/controls",
            "_model_module_version": "1.5.0",
            "_model_name": "DescriptionStyleModel",
            "_view_count": null,
            "_view_module": "@jupyter-widgets/base",
            "_view_module_version": "1.2.0",
            "_view_name": "StyleView",
            "description_width": ""
          }
        },
        "4b9116c87c564eabb6561dbecec6e99b": {
          "model_module": "@jupyter-widgets/base",
          "model_name": "LayoutModel",
          "model_module_version": "1.2.0",
          "state": {
            "_model_module": "@jupyter-widgets/base",
            "_model_module_version": "1.2.0",
            "_model_name": "LayoutModel",
            "_view_count": null,
            "_view_module": "@jupyter-widgets/base",
            "_view_module_version": "1.2.0",
            "_view_name": "LayoutView",
            "align_content": null,
            "align_items": null,
            "align_self": null,
            "border": null,
            "bottom": null,
            "display": null,
            "flex": null,
            "flex_flow": null,
            "grid_area": null,
            "grid_auto_columns": null,
            "grid_auto_flow": null,
            "grid_auto_rows": null,
            "grid_column": null,
            "grid_gap": null,
            "grid_row": null,
            "grid_template_areas": null,
            "grid_template_columns": null,
            "grid_template_rows": null,
            "height": null,
            "justify_content": null,
            "justify_items": null,
            "left": null,
            "margin": null,
            "max_height": null,
            "max_width": null,
            "min_height": null,
            "min_width": null,
            "object_fit": null,
            "object_position": null,
            "order": null,
            "overflow": null,
            "overflow_x": null,
            "overflow_y": null,
            "padding": null,
            "right": null,
            "top": null,
            "visibility": null,
            "width": null
          }
        },
        "ef69f7efa8b94fa59632dbd4a57eb7e1": {
          "model_module": "@jupyter-widgets/controls",
          "model_name": "ProgressStyleModel",
          "model_module_version": "1.5.0",
          "state": {
            "_model_module": "@jupyter-widgets/controls",
            "_model_module_version": "1.5.0",
            "_model_name": "ProgressStyleModel",
            "_view_count": null,
            "_view_module": "@jupyter-widgets/base",
            "_view_module_version": "1.2.0",
            "_view_name": "StyleView",
            "bar_color": null,
            "description_width": ""
          }
        },
        "3182b7adf76349c5bf4ccc229f0905d3": {
          "model_module": "@jupyter-widgets/base",
          "model_name": "LayoutModel",
          "model_module_version": "1.2.0",
          "state": {
            "_model_module": "@jupyter-widgets/base",
            "_model_module_version": "1.2.0",
            "_model_name": "LayoutModel",
            "_view_count": null,
            "_view_module": "@jupyter-widgets/base",
            "_view_module_version": "1.2.0",
            "_view_name": "LayoutView",
            "align_content": null,
            "align_items": null,
            "align_self": null,
            "border": null,
            "bottom": null,
            "display": null,
            "flex": null,
            "flex_flow": null,
            "grid_area": null,
            "grid_auto_columns": null,
            "grid_auto_flow": null,
            "grid_auto_rows": null,
            "grid_column": null,
            "grid_gap": null,
            "grid_row": null,
            "grid_template_areas": null,
            "grid_template_columns": null,
            "grid_template_rows": null,
            "height": null,
            "justify_content": null,
            "justify_items": null,
            "left": null,
            "margin": null,
            "max_height": null,
            "max_width": null,
            "min_height": null,
            "min_width": null,
            "object_fit": null,
            "object_position": null,
            "order": null,
            "overflow": null,
            "overflow_x": null,
            "overflow_y": null,
            "padding": null,
            "right": null,
            "top": null,
            "visibility": null,
            "width": null
          }
        },
        "173f0c0e548f4a00a9d146d7ea76f796": {
          "model_module": "@jupyter-widgets/controls",
          "model_name": "DescriptionStyleModel",
          "model_module_version": "1.5.0",
          "state": {
            "_model_module": "@jupyter-widgets/controls",
            "_model_module_version": "1.5.0",
            "_model_name": "DescriptionStyleModel",
            "_view_count": null,
            "_view_module": "@jupyter-widgets/base",
            "_view_module_version": "1.2.0",
            "_view_name": "StyleView",
            "description_width": ""
          }
        },
        "e3a79ab9113c4e70a7efa6a98cf32292": {
          "model_module": "@jupyter-widgets/controls",
          "model_name": "HBoxModel",
          "model_module_version": "1.5.0",
          "state": {
            "_dom_classes": [],
            "_model_module": "@jupyter-widgets/controls",
            "_model_module_version": "1.5.0",
            "_model_name": "HBoxModel",
            "_view_count": null,
            "_view_module": "@jupyter-widgets/controls",
            "_view_module_version": "1.5.0",
            "_view_name": "HBoxView",
            "box_style": "",
            "children": [
              "IPY_MODEL_b19ac2a42cd84d49a6c060241cc5a27b",
              "IPY_MODEL_179a46e2a0224cdba898f28ea189c198",
              "IPY_MODEL_6b7ea1a9560443769f3e53b33b4887a9"
            ],
            "layout": "IPY_MODEL_45498f2af923458c897a71003cbbb21a"
          }
        },
        "b19ac2a42cd84d49a6c060241cc5a27b": {
          "model_module": "@jupyter-widgets/controls",
          "model_name": "HTMLModel",
          "model_module_version": "1.5.0",
          "state": {
            "_dom_classes": [],
            "_model_module": "@jupyter-widgets/controls",
            "_model_module_version": "1.5.0",
            "_model_name": "HTMLModel",
            "_view_count": null,
            "_view_module": "@jupyter-widgets/controls",
            "_view_module_version": "1.5.0",
            "_view_name": "HTMLView",
            "description": "",
            "description_tooltip": null,
            "layout": "IPY_MODEL_6a6df74123614b8f9d18db424c194628",
            "placeholder": "​",
            "style": "IPY_MODEL_c01f6310fa6443839526013a713d20a0",
            "value": "tokenizer.json: 100%"
          }
        },
        "179a46e2a0224cdba898f28ea189c198": {
          "model_module": "@jupyter-widgets/controls",
          "model_name": "FloatProgressModel",
          "model_module_version": "1.5.0",
          "state": {
            "_dom_classes": [],
            "_model_module": "@jupyter-widgets/controls",
            "_model_module_version": "1.5.0",
            "_model_name": "FloatProgressModel",
            "_view_count": null,
            "_view_module": "@jupyter-widgets/controls",
            "_view_module_version": "1.5.0",
            "_view_name": "ProgressView",
            "bar_style": "success",
            "description": "",
            "description_tooltip": null,
            "layout": "IPY_MODEL_917f44b1f08249859478d1d78a20da22",
            "max": 466062,
            "min": 0,
            "orientation": "horizontal",
            "style": "IPY_MODEL_8ba88e114cfd4efd8d28216b3fc3b79a",
            "value": 466062
          }
        },
        "6b7ea1a9560443769f3e53b33b4887a9": {
          "model_module": "@jupyter-widgets/controls",
          "model_name": "HTMLModel",
          "model_module_version": "1.5.0",
          "state": {
            "_dom_classes": [],
            "_model_module": "@jupyter-widgets/controls",
            "_model_module_version": "1.5.0",
            "_model_name": "HTMLModel",
            "_view_count": null,
            "_view_module": "@jupyter-widgets/controls",
            "_view_module_version": "1.5.0",
            "_view_name": "HTMLView",
            "description": "",
            "description_tooltip": null,
            "layout": "IPY_MODEL_0ad8c5d22eb44f149a9da57f4bac1709",
            "placeholder": "​",
            "style": "IPY_MODEL_40bfe603bad140628e98b3b823de4a55",
            "value": " 466k/466k [00:00&lt;00:00, 2.31MB/s]"
          }
        },
        "45498f2af923458c897a71003cbbb21a": {
          "model_module": "@jupyter-widgets/base",
          "model_name": "LayoutModel",
          "model_module_version": "1.2.0",
          "state": {
            "_model_module": "@jupyter-widgets/base",
            "_model_module_version": "1.2.0",
            "_model_name": "LayoutModel",
            "_view_count": null,
            "_view_module": "@jupyter-widgets/base",
            "_view_module_version": "1.2.0",
            "_view_name": "LayoutView",
            "align_content": null,
            "align_items": null,
            "align_self": null,
            "border": null,
            "bottom": null,
            "display": null,
            "flex": null,
            "flex_flow": null,
            "grid_area": null,
            "grid_auto_columns": null,
            "grid_auto_flow": null,
            "grid_auto_rows": null,
            "grid_column": null,
            "grid_gap": null,
            "grid_row": null,
            "grid_template_areas": null,
            "grid_template_columns": null,
            "grid_template_rows": null,
            "height": null,
            "justify_content": null,
            "justify_items": null,
            "left": null,
            "margin": null,
            "max_height": null,
            "max_width": null,
            "min_height": null,
            "min_width": null,
            "object_fit": null,
            "object_position": null,
            "order": null,
            "overflow": null,
            "overflow_x": null,
            "overflow_y": null,
            "padding": null,
            "right": null,
            "top": null,
            "visibility": null,
            "width": null
          }
        },
        "6a6df74123614b8f9d18db424c194628": {
          "model_module": "@jupyter-widgets/base",
          "model_name": "LayoutModel",
          "model_module_version": "1.2.0",
          "state": {
            "_model_module": "@jupyter-widgets/base",
            "_model_module_version": "1.2.0",
            "_model_name": "LayoutModel",
            "_view_count": null,
            "_view_module": "@jupyter-widgets/base",
            "_view_module_version": "1.2.0",
            "_view_name": "LayoutView",
            "align_content": null,
            "align_items": null,
            "align_self": null,
            "border": null,
            "bottom": null,
            "display": null,
            "flex": null,
            "flex_flow": null,
            "grid_area": null,
            "grid_auto_columns": null,
            "grid_auto_flow": null,
            "grid_auto_rows": null,
            "grid_column": null,
            "grid_gap": null,
            "grid_row": null,
            "grid_template_areas": null,
            "grid_template_columns": null,
            "grid_template_rows": null,
            "height": null,
            "justify_content": null,
            "justify_items": null,
            "left": null,
            "margin": null,
            "max_height": null,
            "max_width": null,
            "min_height": null,
            "min_width": null,
            "object_fit": null,
            "object_position": null,
            "order": null,
            "overflow": null,
            "overflow_x": null,
            "overflow_y": null,
            "padding": null,
            "right": null,
            "top": null,
            "visibility": null,
            "width": null
          }
        },
        "c01f6310fa6443839526013a713d20a0": {
          "model_module": "@jupyter-widgets/controls",
          "model_name": "DescriptionStyleModel",
          "model_module_version": "1.5.0",
          "state": {
            "_model_module": "@jupyter-widgets/controls",
            "_model_module_version": "1.5.0",
            "_model_name": "DescriptionStyleModel",
            "_view_count": null,
            "_view_module": "@jupyter-widgets/base",
            "_view_module_version": "1.2.0",
            "_view_name": "StyleView",
            "description_width": ""
          }
        },
        "917f44b1f08249859478d1d78a20da22": {
          "model_module": "@jupyter-widgets/base",
          "model_name": "LayoutModel",
          "model_module_version": "1.2.0",
          "state": {
            "_model_module": "@jupyter-widgets/base",
            "_model_module_version": "1.2.0",
            "_model_name": "LayoutModel",
            "_view_count": null,
            "_view_module": "@jupyter-widgets/base",
            "_view_module_version": "1.2.0",
            "_view_name": "LayoutView",
            "align_content": null,
            "align_items": null,
            "align_self": null,
            "border": null,
            "bottom": null,
            "display": null,
            "flex": null,
            "flex_flow": null,
            "grid_area": null,
            "grid_auto_columns": null,
            "grid_auto_flow": null,
            "grid_auto_rows": null,
            "grid_column": null,
            "grid_gap": null,
            "grid_row": null,
            "grid_template_areas": null,
            "grid_template_columns": null,
            "grid_template_rows": null,
            "height": null,
            "justify_content": null,
            "justify_items": null,
            "left": null,
            "margin": null,
            "max_height": null,
            "max_width": null,
            "min_height": null,
            "min_width": null,
            "object_fit": null,
            "object_position": null,
            "order": null,
            "overflow": null,
            "overflow_x": null,
            "overflow_y": null,
            "padding": null,
            "right": null,
            "top": null,
            "visibility": null,
            "width": null
          }
        },
        "8ba88e114cfd4efd8d28216b3fc3b79a": {
          "model_module": "@jupyter-widgets/controls",
          "model_name": "ProgressStyleModel",
          "model_module_version": "1.5.0",
          "state": {
            "_model_module": "@jupyter-widgets/controls",
            "_model_module_version": "1.5.0",
            "_model_name": "ProgressStyleModel",
            "_view_count": null,
            "_view_module": "@jupyter-widgets/base",
            "_view_module_version": "1.2.0",
            "_view_name": "StyleView",
            "bar_color": null,
            "description_width": ""
          }
        },
        "0ad8c5d22eb44f149a9da57f4bac1709": {
          "model_module": "@jupyter-widgets/base",
          "model_name": "LayoutModel",
          "model_module_version": "1.2.0",
          "state": {
            "_model_module": "@jupyter-widgets/base",
            "_model_module_version": "1.2.0",
            "_model_name": "LayoutModel",
            "_view_count": null,
            "_view_module": "@jupyter-widgets/base",
            "_view_module_version": "1.2.0",
            "_view_name": "LayoutView",
            "align_content": null,
            "align_items": null,
            "align_self": null,
            "border": null,
            "bottom": null,
            "display": null,
            "flex": null,
            "flex_flow": null,
            "grid_area": null,
            "grid_auto_columns": null,
            "grid_auto_flow": null,
            "grid_auto_rows": null,
            "grid_column": null,
            "grid_gap": null,
            "grid_row": null,
            "grid_template_areas": null,
            "grid_template_columns": null,
            "grid_template_rows": null,
            "height": null,
            "justify_content": null,
            "justify_items": null,
            "left": null,
            "margin": null,
            "max_height": null,
            "max_width": null,
            "min_height": null,
            "min_width": null,
            "object_fit": null,
            "object_position": null,
            "order": null,
            "overflow": null,
            "overflow_x": null,
            "overflow_y": null,
            "padding": null,
            "right": null,
            "top": null,
            "visibility": null,
            "width": null
          }
        },
        "40bfe603bad140628e98b3b823de4a55": {
          "model_module": "@jupyter-widgets/controls",
          "model_name": "DescriptionStyleModel",
          "model_module_version": "1.5.0",
          "state": {
            "_model_module": "@jupyter-widgets/controls",
            "_model_module_version": "1.5.0",
            "_model_name": "DescriptionStyleModel",
            "_view_count": null,
            "_view_module": "@jupyter-widgets/base",
            "_view_module_version": "1.2.0",
            "_view_name": "StyleView",
            "description_width": ""
          }
        },
        "8fb584e641a64051a78b8664ee790a73": {
          "model_module": "@jupyter-widgets/controls",
          "model_name": "HBoxModel",
          "model_module_version": "1.5.0",
          "state": {
            "_dom_classes": [],
            "_model_module": "@jupyter-widgets/controls",
            "_model_module_version": "1.5.0",
            "_model_name": "HBoxModel",
            "_view_count": null,
            "_view_module": "@jupyter-widgets/controls",
            "_view_module_version": "1.5.0",
            "_view_name": "HBoxView",
            "box_style": "",
            "children": [
              "IPY_MODEL_4b21e5c41f9a4d5395a44347723ec296",
              "IPY_MODEL_3cc7b048377e42488b5927a41535124e",
              "IPY_MODEL_5e5ea1c28b084d2ba866e75e052580ec"
            ],
            "layout": "IPY_MODEL_68107c9293a6459d89ebcc2697da7d2b"
          }
        },
        "4b21e5c41f9a4d5395a44347723ec296": {
          "model_module": "@jupyter-widgets/controls",
          "model_name": "HTMLModel",
          "model_module_version": "1.5.0",
          "state": {
            "_dom_classes": [],
            "_model_module": "@jupyter-widgets/controls",
            "_model_module_version": "1.5.0",
            "_model_name": "HTMLModel",
            "_view_count": null,
            "_view_module": "@jupyter-widgets/controls",
            "_view_module_version": "1.5.0",
            "_view_name": "HTMLView",
            "description": "",
            "description_tooltip": null,
            "layout": "IPY_MODEL_461da81f58bd47bcae9330fa2cf870e2",
            "placeholder": "​",
            "style": "IPY_MODEL_e5e24a61361444aca3bcbb3e2d47f1d3",
            "value": "config.json: 100%"
          }
        },
        "3cc7b048377e42488b5927a41535124e": {
          "model_module": "@jupyter-widgets/controls",
          "model_name": "FloatProgressModel",
          "model_module_version": "1.5.0",
          "state": {
            "_dom_classes": [],
            "_model_module": "@jupyter-widgets/controls",
            "_model_module_version": "1.5.0",
            "_model_name": "FloatProgressModel",
            "_view_count": null,
            "_view_module": "@jupyter-widgets/controls",
            "_view_module_version": "1.5.0",
            "_view_name": "ProgressView",
            "bar_style": "success",
            "description": "",
            "description_tooltip": null,
            "layout": "IPY_MODEL_cf347793381049c8913eafbe462b9670",
            "max": 570,
            "min": 0,
            "orientation": "horizontal",
            "style": "IPY_MODEL_0601fa97fbb4459b81d5d46c3a603bc1",
            "value": 570
          }
        },
        "5e5ea1c28b084d2ba866e75e052580ec": {
          "model_module": "@jupyter-widgets/controls",
          "model_name": "HTMLModel",
          "model_module_version": "1.5.0",
          "state": {
            "_dom_classes": [],
            "_model_module": "@jupyter-widgets/controls",
            "_model_module_version": "1.5.0",
            "_model_name": "HTMLModel",
            "_view_count": null,
            "_view_module": "@jupyter-widgets/controls",
            "_view_module_version": "1.5.0",
            "_view_name": "HTMLView",
            "description": "",
            "description_tooltip": null,
            "layout": "IPY_MODEL_19a8ef2b945d43d4a7fe9ad3b29dc878",
            "placeholder": "​",
            "style": "IPY_MODEL_638399dede8b402b88659942ad72d657",
            "value": " 570/570 [00:00&lt;00:00, 39.9kB/s]"
          }
        },
        "68107c9293a6459d89ebcc2697da7d2b": {
          "model_module": "@jupyter-widgets/base",
          "model_name": "LayoutModel",
          "model_module_version": "1.2.0",
          "state": {
            "_model_module": "@jupyter-widgets/base",
            "_model_module_version": "1.2.0",
            "_model_name": "LayoutModel",
            "_view_count": null,
            "_view_module": "@jupyter-widgets/base",
            "_view_module_version": "1.2.0",
            "_view_name": "LayoutView",
            "align_content": null,
            "align_items": null,
            "align_self": null,
            "border": null,
            "bottom": null,
            "display": null,
            "flex": null,
            "flex_flow": null,
            "grid_area": null,
            "grid_auto_columns": null,
            "grid_auto_flow": null,
            "grid_auto_rows": null,
            "grid_column": null,
            "grid_gap": null,
            "grid_row": null,
            "grid_template_areas": null,
            "grid_template_columns": null,
            "grid_template_rows": null,
            "height": null,
            "justify_content": null,
            "justify_items": null,
            "left": null,
            "margin": null,
            "max_height": null,
            "max_width": null,
            "min_height": null,
            "min_width": null,
            "object_fit": null,
            "object_position": null,
            "order": null,
            "overflow": null,
            "overflow_x": null,
            "overflow_y": null,
            "padding": null,
            "right": null,
            "top": null,
            "visibility": null,
            "width": null
          }
        },
        "461da81f58bd47bcae9330fa2cf870e2": {
          "model_module": "@jupyter-widgets/base",
          "model_name": "LayoutModel",
          "model_module_version": "1.2.0",
          "state": {
            "_model_module": "@jupyter-widgets/base",
            "_model_module_version": "1.2.0",
            "_model_name": "LayoutModel",
            "_view_count": null,
            "_view_module": "@jupyter-widgets/base",
            "_view_module_version": "1.2.0",
            "_view_name": "LayoutView",
            "align_content": null,
            "align_items": null,
            "align_self": null,
            "border": null,
            "bottom": null,
            "display": null,
            "flex": null,
            "flex_flow": null,
            "grid_area": null,
            "grid_auto_columns": null,
            "grid_auto_flow": null,
            "grid_auto_rows": null,
            "grid_column": null,
            "grid_gap": null,
            "grid_row": null,
            "grid_template_areas": null,
            "grid_template_columns": null,
            "grid_template_rows": null,
            "height": null,
            "justify_content": null,
            "justify_items": null,
            "left": null,
            "margin": null,
            "max_height": null,
            "max_width": null,
            "min_height": null,
            "min_width": null,
            "object_fit": null,
            "object_position": null,
            "order": null,
            "overflow": null,
            "overflow_x": null,
            "overflow_y": null,
            "padding": null,
            "right": null,
            "top": null,
            "visibility": null,
            "width": null
          }
        },
        "e5e24a61361444aca3bcbb3e2d47f1d3": {
          "model_module": "@jupyter-widgets/controls",
          "model_name": "DescriptionStyleModel",
          "model_module_version": "1.5.0",
          "state": {
            "_model_module": "@jupyter-widgets/controls",
            "_model_module_version": "1.5.0",
            "_model_name": "DescriptionStyleModel",
            "_view_count": null,
            "_view_module": "@jupyter-widgets/base",
            "_view_module_version": "1.2.0",
            "_view_name": "StyleView",
            "description_width": ""
          }
        },
        "cf347793381049c8913eafbe462b9670": {
          "model_module": "@jupyter-widgets/base",
          "model_name": "LayoutModel",
          "model_module_version": "1.2.0",
          "state": {
            "_model_module": "@jupyter-widgets/base",
            "_model_module_version": "1.2.0",
            "_model_name": "LayoutModel",
            "_view_count": null,
            "_view_module": "@jupyter-widgets/base",
            "_view_module_version": "1.2.0",
            "_view_name": "LayoutView",
            "align_content": null,
            "align_items": null,
            "align_self": null,
            "border": null,
            "bottom": null,
            "display": null,
            "flex": null,
            "flex_flow": null,
            "grid_area": null,
            "grid_auto_columns": null,
            "grid_auto_flow": null,
            "grid_auto_rows": null,
            "grid_column": null,
            "grid_gap": null,
            "grid_row": null,
            "grid_template_areas": null,
            "grid_template_columns": null,
            "grid_template_rows": null,
            "height": null,
            "justify_content": null,
            "justify_items": null,
            "left": null,
            "margin": null,
            "max_height": null,
            "max_width": null,
            "min_height": null,
            "min_width": null,
            "object_fit": null,
            "object_position": null,
            "order": null,
            "overflow": null,
            "overflow_x": null,
            "overflow_y": null,
            "padding": null,
            "right": null,
            "top": null,
            "visibility": null,
            "width": null
          }
        },
        "0601fa97fbb4459b81d5d46c3a603bc1": {
          "model_module": "@jupyter-widgets/controls",
          "model_name": "ProgressStyleModel",
          "model_module_version": "1.5.0",
          "state": {
            "_model_module": "@jupyter-widgets/controls",
            "_model_module_version": "1.5.0",
            "_model_name": "ProgressStyleModel",
            "_view_count": null,
            "_view_module": "@jupyter-widgets/base",
            "_view_module_version": "1.2.0",
            "_view_name": "StyleView",
            "bar_color": null,
            "description_width": ""
          }
        },
        "19a8ef2b945d43d4a7fe9ad3b29dc878": {
          "model_module": "@jupyter-widgets/base",
          "model_name": "LayoutModel",
          "model_module_version": "1.2.0",
          "state": {
            "_model_module": "@jupyter-widgets/base",
            "_model_module_version": "1.2.0",
            "_model_name": "LayoutModel",
            "_view_count": null,
            "_view_module": "@jupyter-widgets/base",
            "_view_module_version": "1.2.0",
            "_view_name": "LayoutView",
            "align_content": null,
            "align_items": null,
            "align_self": null,
            "border": null,
            "bottom": null,
            "display": null,
            "flex": null,
            "flex_flow": null,
            "grid_area": null,
            "grid_auto_columns": null,
            "grid_auto_flow": null,
            "grid_auto_rows": null,
            "grid_column": null,
            "grid_gap": null,
            "grid_row": null,
            "grid_template_areas": null,
            "grid_template_columns": null,
            "grid_template_rows": null,
            "height": null,
            "justify_content": null,
            "justify_items": null,
            "left": null,
            "margin": null,
            "max_height": null,
            "max_width": null,
            "min_height": null,
            "min_width": null,
            "object_fit": null,
            "object_position": null,
            "order": null,
            "overflow": null,
            "overflow_x": null,
            "overflow_y": null,
            "padding": null,
            "right": null,
            "top": null,
            "visibility": null,
            "width": null
          }
        },
        "638399dede8b402b88659942ad72d657": {
          "model_module": "@jupyter-widgets/controls",
          "model_name": "DescriptionStyleModel",
          "model_module_version": "1.5.0",
          "state": {
            "_model_module": "@jupyter-widgets/controls",
            "_model_module_version": "1.5.0",
            "_model_name": "DescriptionStyleModel",
            "_view_count": null,
            "_view_module": "@jupyter-widgets/base",
            "_view_module_version": "1.2.0",
            "_view_name": "StyleView",
            "description_width": ""
          }
        },
        "e2a9e1b4109044ecae618dba9037ff81": {
          "model_module": "@jupyter-widgets/controls",
          "model_name": "HBoxModel",
          "model_module_version": "1.5.0",
          "state": {
            "_dom_classes": [],
            "_model_module": "@jupyter-widgets/controls",
            "_model_module_version": "1.5.0",
            "_model_name": "HBoxModel",
            "_view_count": null,
            "_view_module": "@jupyter-widgets/controls",
            "_view_module_version": "1.5.0",
            "_view_name": "HBoxView",
            "box_style": "",
            "children": [
              "IPY_MODEL_dd3df03dfd33431785e352ae71d37669",
              "IPY_MODEL_a179a0e1cc0f4472abfea844e1af0413",
              "IPY_MODEL_2a3e324081694e2faa90b4320df7146b"
            ],
            "layout": "IPY_MODEL_d77a5f708ede4a1ea468fac7220f5c1a"
          }
        },
        "dd3df03dfd33431785e352ae71d37669": {
          "model_module": "@jupyter-widgets/controls",
          "model_name": "HTMLModel",
          "model_module_version": "1.5.0",
          "state": {
            "_dom_classes": [],
            "_model_module": "@jupyter-widgets/controls",
            "_model_module_version": "1.5.0",
            "_model_name": "HTMLModel",
            "_view_count": null,
            "_view_module": "@jupyter-widgets/controls",
            "_view_module_version": "1.5.0",
            "_view_name": "HTMLView",
            "description": "",
            "description_tooltip": null,
            "layout": "IPY_MODEL_bee835f16ddd46aa864ced898c3563cb",
            "placeholder": "​",
            "style": "IPY_MODEL_4fb6540aa06f4f1485487ea8deea0db6",
            "value": "model.safetensors: 100%"
          }
        },
        "a179a0e1cc0f4472abfea844e1af0413": {
          "model_module": "@jupyter-widgets/controls",
          "model_name": "FloatProgressModel",
          "model_module_version": "1.5.0",
          "state": {
            "_dom_classes": [],
            "_model_module": "@jupyter-widgets/controls",
            "_model_module_version": "1.5.0",
            "_model_name": "FloatProgressModel",
            "_view_count": null,
            "_view_module": "@jupyter-widgets/controls",
            "_view_module_version": "1.5.0",
            "_view_name": "ProgressView",
            "bar_style": "success",
            "description": "",
            "description_tooltip": null,
            "layout": "IPY_MODEL_9eb1e55a306c41ffb0a4d5331927ede5",
            "max": 440449768,
            "min": 0,
            "orientation": "horizontal",
            "style": "IPY_MODEL_caff61aa636c4807a1e7021371648e48",
            "value": 440449768
          }
        },
        "2a3e324081694e2faa90b4320df7146b": {
          "model_module": "@jupyter-widgets/controls",
          "model_name": "HTMLModel",
          "model_module_version": "1.5.0",
          "state": {
            "_dom_classes": [],
            "_model_module": "@jupyter-widgets/controls",
            "_model_module_version": "1.5.0",
            "_model_name": "HTMLModel",
            "_view_count": null,
            "_view_module": "@jupyter-widgets/controls",
            "_view_module_version": "1.5.0",
            "_view_name": "HTMLView",
            "description": "",
            "description_tooltip": null,
            "layout": "IPY_MODEL_4e0c663232b1400593a3347a34278aff",
            "placeholder": "​",
            "style": "IPY_MODEL_d515f718e75b4c549031fad64e755c4c",
            "value": " 440M/440M [00:02&lt;00:00, 234MB/s]"
          }
        },
        "d77a5f708ede4a1ea468fac7220f5c1a": {
          "model_module": "@jupyter-widgets/base",
          "model_name": "LayoutModel",
          "model_module_version": "1.2.0",
          "state": {
            "_model_module": "@jupyter-widgets/base",
            "_model_module_version": "1.2.0",
            "_model_name": "LayoutModel",
            "_view_count": null,
            "_view_module": "@jupyter-widgets/base",
            "_view_module_version": "1.2.0",
            "_view_name": "LayoutView",
            "align_content": null,
            "align_items": null,
            "align_self": null,
            "border": null,
            "bottom": null,
            "display": null,
            "flex": null,
            "flex_flow": null,
            "grid_area": null,
            "grid_auto_columns": null,
            "grid_auto_flow": null,
            "grid_auto_rows": null,
            "grid_column": null,
            "grid_gap": null,
            "grid_row": null,
            "grid_template_areas": null,
            "grid_template_columns": null,
            "grid_template_rows": null,
            "height": null,
            "justify_content": null,
            "justify_items": null,
            "left": null,
            "margin": null,
            "max_height": null,
            "max_width": null,
            "min_height": null,
            "min_width": null,
            "object_fit": null,
            "object_position": null,
            "order": null,
            "overflow": null,
            "overflow_x": null,
            "overflow_y": null,
            "padding": null,
            "right": null,
            "top": null,
            "visibility": null,
            "width": null
          }
        },
        "bee835f16ddd46aa864ced898c3563cb": {
          "model_module": "@jupyter-widgets/base",
          "model_name": "LayoutModel",
          "model_module_version": "1.2.0",
          "state": {
            "_model_module": "@jupyter-widgets/base",
            "_model_module_version": "1.2.0",
            "_model_name": "LayoutModel",
            "_view_count": null,
            "_view_module": "@jupyter-widgets/base",
            "_view_module_version": "1.2.0",
            "_view_name": "LayoutView",
            "align_content": null,
            "align_items": null,
            "align_self": null,
            "border": null,
            "bottom": null,
            "display": null,
            "flex": null,
            "flex_flow": null,
            "grid_area": null,
            "grid_auto_columns": null,
            "grid_auto_flow": null,
            "grid_auto_rows": null,
            "grid_column": null,
            "grid_gap": null,
            "grid_row": null,
            "grid_template_areas": null,
            "grid_template_columns": null,
            "grid_template_rows": null,
            "height": null,
            "justify_content": null,
            "justify_items": null,
            "left": null,
            "margin": null,
            "max_height": null,
            "max_width": null,
            "min_height": null,
            "min_width": null,
            "object_fit": null,
            "object_position": null,
            "order": null,
            "overflow": null,
            "overflow_x": null,
            "overflow_y": null,
            "padding": null,
            "right": null,
            "top": null,
            "visibility": null,
            "width": null
          }
        },
        "4fb6540aa06f4f1485487ea8deea0db6": {
          "model_module": "@jupyter-widgets/controls",
          "model_name": "DescriptionStyleModel",
          "model_module_version": "1.5.0",
          "state": {
            "_model_module": "@jupyter-widgets/controls",
            "_model_module_version": "1.5.0",
            "_model_name": "DescriptionStyleModel",
            "_view_count": null,
            "_view_module": "@jupyter-widgets/base",
            "_view_module_version": "1.2.0",
            "_view_name": "StyleView",
            "description_width": ""
          }
        },
        "9eb1e55a306c41ffb0a4d5331927ede5": {
          "model_module": "@jupyter-widgets/base",
          "model_name": "LayoutModel",
          "model_module_version": "1.2.0",
          "state": {
            "_model_module": "@jupyter-widgets/base",
            "_model_module_version": "1.2.0",
            "_model_name": "LayoutModel",
            "_view_count": null,
            "_view_module": "@jupyter-widgets/base",
            "_view_module_version": "1.2.0",
            "_view_name": "LayoutView",
            "align_content": null,
            "align_items": null,
            "align_self": null,
            "border": null,
            "bottom": null,
            "display": null,
            "flex": null,
            "flex_flow": null,
            "grid_area": null,
            "grid_auto_columns": null,
            "grid_auto_flow": null,
            "grid_auto_rows": null,
            "grid_column": null,
            "grid_gap": null,
            "grid_row": null,
            "grid_template_areas": null,
            "grid_template_columns": null,
            "grid_template_rows": null,
            "height": null,
            "justify_content": null,
            "justify_items": null,
            "left": null,
            "margin": null,
            "max_height": null,
            "max_width": null,
            "min_height": null,
            "min_width": null,
            "object_fit": null,
            "object_position": null,
            "order": null,
            "overflow": null,
            "overflow_x": null,
            "overflow_y": null,
            "padding": null,
            "right": null,
            "top": null,
            "visibility": null,
            "width": null
          }
        },
        "caff61aa636c4807a1e7021371648e48": {
          "model_module": "@jupyter-widgets/controls",
          "model_name": "ProgressStyleModel",
          "model_module_version": "1.5.0",
          "state": {
            "_model_module": "@jupyter-widgets/controls",
            "_model_module_version": "1.5.0",
            "_model_name": "ProgressStyleModel",
            "_view_count": null,
            "_view_module": "@jupyter-widgets/base",
            "_view_module_version": "1.2.0",
            "_view_name": "StyleView",
            "bar_color": null,
            "description_width": ""
          }
        },
        "4e0c663232b1400593a3347a34278aff": {
          "model_module": "@jupyter-widgets/base",
          "model_name": "LayoutModel",
          "model_module_version": "1.2.0",
          "state": {
            "_model_module": "@jupyter-widgets/base",
            "_model_module_version": "1.2.0",
            "_model_name": "LayoutModel",
            "_view_count": null,
            "_view_module": "@jupyter-widgets/base",
            "_view_module_version": "1.2.0",
            "_view_name": "LayoutView",
            "align_content": null,
            "align_items": null,
            "align_self": null,
            "border": null,
            "bottom": null,
            "display": null,
            "flex": null,
            "flex_flow": null,
            "grid_area": null,
            "grid_auto_columns": null,
            "grid_auto_flow": null,
            "grid_auto_rows": null,
            "grid_column": null,
            "grid_gap": null,
            "grid_row": null,
            "grid_template_areas": null,
            "grid_template_columns": null,
            "grid_template_rows": null,
            "height": null,
            "justify_content": null,
            "justify_items": null,
            "left": null,
            "margin": null,
            "max_height": null,
            "max_width": null,
            "min_height": null,
            "min_width": null,
            "object_fit": null,
            "object_position": null,
            "order": null,
            "overflow": null,
            "overflow_x": null,
            "overflow_y": null,
            "padding": null,
            "right": null,
            "top": null,
            "visibility": null,
            "width": null
          }
        },
        "d515f718e75b4c549031fad64e755c4c": {
          "model_module": "@jupyter-widgets/controls",
          "model_name": "DescriptionStyleModel",
          "model_module_version": "1.5.0",
          "state": {
            "_model_module": "@jupyter-widgets/controls",
            "_model_module_version": "1.5.0",
            "_model_name": "DescriptionStyleModel",
            "_view_count": null,
            "_view_module": "@jupyter-widgets/base",
            "_view_module_version": "1.2.0",
            "_view_name": "StyleView",
            "description_width": ""
          }
        }
      }
    }
  },
  "nbformat": 4,
  "nbformat_minor": 0
}